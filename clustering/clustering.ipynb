{
 "cells": [
  {
   "cell_type": "markdown",
   "metadata": {},
   "source": [
    "## Exoplanet Clustering \n",
    "\n",
    "### Set up environment "
   ]
  },
  {
   "cell_type": "code",
   "execution_count": 1,
   "metadata": {},
   "outputs": [],
   "source": [
    "# set up environment \n",
    "import numpy as np\n",
    "import pandas as pd\n",
    "import altair as alt\n",
    "import matplotlib.pyplot as plt\n",
    "from sklearn.datasets import make_blobs\n",
    "from sklearn.datasets import make_moons\n",
    "from sklearn.cluster import KMeans # kmeans\n",
    "from sklearn.cluster import DBSCAN # dbscan\n",
    "from scipy.cluster.hierarchy import dendrogram, linkage # hierarchical clustering"
   ]
  },
  {
   "cell_type": "markdown",
   "metadata": {},
   "source": [
    "### Read in data"
   ]
  },
  {
   "cell_type": "code",
   "execution_count": 2,
   "metadata": {},
   "outputs": [
    {
     "data": {
      "text/html": [
       "<div>\n",
       "<style scoped>\n",
       "    .dataframe tbody tr th:only-of-type {\n",
       "        vertical-align: middle;\n",
       "    }\n",
       "\n",
       "    .dataframe tbody tr th {\n",
       "        vertical-align: top;\n",
       "    }\n",
       "\n",
       "    .dataframe thead th {\n",
       "        text-align: right;\n",
       "    }\n",
       "</style>\n",
       "<table border=\"1\" class=\"dataframe\">\n",
       "  <thead>\n",
       "    <tr style=\"text-align: right;\">\n",
       "      <th></th>\n",
       "      <th>NAME</th>\n",
       "      <th>LIGHT-YEARS FROM EARTH</th>\n",
       "      <th>PLANET MASS</th>\n",
       "      <th>STELLAR MAGNITUDE</th>\n",
       "      <th>DISCOVERY DATE</th>\n",
       "    </tr>\n",
       "  </thead>\n",
       "  <tbody>\n",
       "    <tr>\n",
       "      <th>107</th>\n",
       "      <td>HIP 105854 b</td>\n",
       "      <td>257.0</td>\n",
       "      <td>8.2 Jupiters</td>\n",
       "      <td>5.64000</td>\n",
       "      <td>2014</td>\n",
       "    </tr>\n",
       "    <tr>\n",
       "      <th>82</th>\n",
       "      <td>HD 219134 h</td>\n",
       "      <td>21.0</td>\n",
       "      <td>0.34 Jupiters</td>\n",
       "      <td>5.56911</td>\n",
       "      <td>2015</td>\n",
       "    </tr>\n",
       "    <tr>\n",
       "      <th>143</th>\n",
       "      <td>MOA-2010-BLG-353L b</td>\n",
       "      <td>20975.0</td>\n",
       "      <td>0.27 Jupiters</td>\n",
       "      <td>NaN</td>\n",
       "      <td>2015</td>\n",
       "    </tr>\n",
       "    <tr>\n",
       "      <th>132</th>\n",
       "      <td>KMT-2018-BLG-1990L b</td>\n",
       "      <td>3154.0</td>\n",
       "      <td>0.348 Jupiters</td>\n",
       "      <td>NaN</td>\n",
       "      <td>2019</td>\n",
       "    </tr>\n",
       "    <tr>\n",
       "      <th>214</th>\n",
       "      <td>PSR B1257+12 b</td>\n",
       "      <td>1957.0</td>\n",
       "      <td>0.02 Earths</td>\n",
       "      <td>NaN</td>\n",
       "      <td>1994</td>\n",
       "    </tr>\n",
       "    <tr>\n",
       "      <th>187</th>\n",
       "      <td>OGLE-2015-BLG-1670L b</td>\n",
       "      <td>21855.0</td>\n",
       "      <td>17.9 Earths</td>\n",
       "      <td>NaN</td>\n",
       "      <td>2019</td>\n",
       "    </tr>\n",
       "    <tr>\n",
       "      <th>191</th>\n",
       "      <td>OGLE-2016-BLG-1067L b</td>\n",
       "      <td>12167.0</td>\n",
       "      <td>0.43 Jupiters</td>\n",
       "      <td>NaN</td>\n",
       "      <td>2019</td>\n",
       "    </tr>\n",
       "    <tr>\n",
       "      <th>192</th>\n",
       "      <td>OGLE-2016-BLG-1190L b</td>\n",
       "      <td>22084.0</td>\n",
       "      <td>13.38 Jupiters</td>\n",
       "      <td>NaN</td>\n",
       "      <td>2017</td>\n",
       "    </tr>\n",
       "    <tr>\n",
       "      <th>154</th>\n",
       "      <td>MOA-2015-BLG-337L b</td>\n",
       "      <td>23160.0</td>\n",
       "      <td>33.7 Earths</td>\n",
       "      <td>NaN</td>\n",
       "      <td>2018</td>\n",
       "    </tr>\n",
       "    <tr>\n",
       "      <th>126</th>\n",
       "      <td>KMT-2016-BLG-2397L b</td>\n",
       "      <td>15919.0</td>\n",
       "      <td>2.63 Jupiters</td>\n",
       "      <td>NaN</td>\n",
       "      <td>2020</td>\n",
       "    </tr>\n",
       "  </tbody>\n",
       "</table>\n",
       "</div>"
      ],
      "text/plain": [
       "                      NAME  LIGHT-YEARS FROM EARTH     PLANET MASS  \\\n",
       "107           HIP 105854 b                   257.0    8.2 Jupiters   \n",
       "82             HD 219134 h                    21.0   0.34 Jupiters   \n",
       "143    MOA-2010-BLG-353L b                 20975.0   0.27 Jupiters   \n",
       "132   KMT-2018-BLG-1990L b                  3154.0  0.348 Jupiters   \n",
       "214         PSR B1257+12 b                  1957.0     0.02 Earths   \n",
       "187  OGLE-2015-BLG-1670L b                 21855.0     17.9 Earths   \n",
       "191  OGLE-2016-BLG-1067L b                 12167.0   0.43 Jupiters   \n",
       "192  OGLE-2016-BLG-1190L b                 22084.0  13.38 Jupiters   \n",
       "154    MOA-2015-BLG-337L b                 23160.0     33.7 Earths   \n",
       "126   KMT-2016-BLG-2397L b                 15919.0   2.63 Jupiters   \n",
       "\n",
       "     STELLAR MAGNITUDE  DISCOVERY DATE  \n",
       "107            5.64000            2014  \n",
       "82             5.56911            2015  \n",
       "143                NaN            2015  \n",
       "132                NaN            2019  \n",
       "214                NaN            1994  \n",
       "187                NaN            2019  \n",
       "191                NaN            2019  \n",
       "192                NaN            2017  \n",
       "154                NaN            2018  \n",
       "126                NaN            2020  "
      ]
     },
     "execution_count": 2,
     "metadata": {},
     "output_type": "execute_result"
    }
   ],
   "source": [
    "# read in data \n",
    "planets = pd.read_csv('exoplanets.csv', delimiter='\\t')\n",
    "\n",
    "# preview sample data \n",
    "planets.sample(10)"
   ]
  },
  {
   "cell_type": "markdown",
   "metadata": {},
   "source": [
    "### Data Exploration \n",
    "\n",
    "Now that our data has been imported, we can do some data exploration. First, let's explore our columns and dtypes:"
   ]
  },
  {
   "cell_type": "code",
   "execution_count": 3,
   "metadata": {},
   "outputs": [
    {
     "name": "stdout",
     "output_type": "stream",
     "text": [
      "<class 'pandas.core.frame.DataFrame'>\n",
      "RangeIndex: 234 entries, 0 to 233\n",
      "Data columns (total 5 columns):\n",
      " #   Column                  Non-Null Count  Dtype  \n",
      "---  ------                  --------------  -----  \n",
      " 0   NAME                    234 non-null    object \n",
      " 1   LIGHT-YEARS FROM EARTH  230 non-null    float64\n",
      " 2   PLANET MASS             234 non-null    object \n",
      " 3   STELLAR MAGNITUDE       138 non-null    float64\n",
      " 4   DISCOVERY DATE          234 non-null    int64  \n",
      "dtypes: float64(2), int64(1), object(2)\n",
      "memory usage: 9.3+ KB\n"
     ]
    }
   ],
   "source": [
    "planets.info()"
   ]
  },
  {
   "cell_type": "markdown",
   "metadata": {},
   "source": [
    "As we can see from this and the sample above, the 'PLANET MASS' column is measured in Earths and Jupiters. Let's see how many 'Earths' and 'Jupiters' there are: "
   ]
  },
  {
   "cell_type": "code",
   "execution_count": 4,
   "metadata": {},
   "outputs": [
    {
     "data": {
      "text/plain": [
       "56"
      ]
     },
     "execution_count": 4,
     "metadata": {},
     "output_type": "execute_result"
    }
   ],
   "source": [
    "# earths \n",
    "planets['PLANET MASS'].str.match(r'(.*Earths$)').sum()"
   ]
  },
  {
   "cell_type": "code",
   "execution_count": 5,
   "metadata": {},
   "outputs": [
    {
     "data": {
      "text/plain": [
       "178"
      ]
     },
     "execution_count": 5,
     "metadata": {},
     "output_type": "execute_result"
    }
   ],
   "source": [
    "# jupiters \n",
    "planets['PLANET MASS'].str.match(r'(.*Jupiters$)').sum()"
   ]
  },
  {
   "cell_type": "markdown",
   "metadata": {},
   "source": [
    "Given the counts we just calculated, we can see that they cover all the rows within our dataframe. Now, we need to normalize the entire column so they all have the same units. \n",
    "\n",
    "First, lets store the indices of all the Earth units: "
   ]
  },
  {
   "cell_type": "code",
   "execution_count": 6,
   "metadata": {},
   "outputs": [
    {
     "data": {
      "text/plain": [
       "0      False\n",
       "1      False\n",
       "2      False\n",
       "3      False\n",
       "4      False\n",
       "       ...  \n",
       "229    False\n",
       "230    False\n",
       "231    False\n",
       "232    False\n",
       "233    False\n",
       "Name: PLANET MASS, Length: 234, dtype: bool"
      ]
     },
     "execution_count": 6,
     "metadata": {},
     "output_type": "execute_result"
    }
   ],
   "source": [
    "# earth indices \n",
    "eindex = planets['PLANET MASS'].str.match(r'(.*Earths$)')\n",
    "eindex "
   ]
  },
  {
   "cell_type": "markdown",
   "metadata": {},
   "source": [
    "Now that we have our Earth indices saved, we can now remove 'Earths' and 'Jupiters' from our 'PLANET MASS' column. Additionally, we also need to change our dtype from 'object' to 'float'.  "
   ]
  },
  {
   "cell_type": "code",
   "execution_count": 7,
   "metadata": {},
   "outputs": [
    {
     "data": {
      "text/html": [
       "<div>\n",
       "<style scoped>\n",
       "    .dataframe tbody tr th:only-of-type {\n",
       "        vertical-align: middle;\n",
       "    }\n",
       "\n",
       "    .dataframe tbody tr th {\n",
       "        vertical-align: top;\n",
       "    }\n",
       "\n",
       "    .dataframe thead th {\n",
       "        text-align: right;\n",
       "    }\n",
       "</style>\n",
       "<table border=\"1\" class=\"dataframe\">\n",
       "  <thead>\n",
       "    <tr style=\"text-align: right;\">\n",
       "      <th></th>\n",
       "      <th>NAME</th>\n",
       "      <th>LIGHT-YEARS FROM EARTH</th>\n",
       "      <th>PLANET MASS</th>\n",
       "      <th>STELLAR MAGNITUDE</th>\n",
       "      <th>DISCOVERY DATE</th>\n",
       "    </tr>\n",
       "  </thead>\n",
       "  <tbody>\n",
       "    <tr>\n",
       "      <th>0</th>\n",
       "      <td>11 Comae Berenices b</td>\n",
       "      <td>304.0</td>\n",
       "      <td>19.4000</td>\n",
       "      <td>4.72307</td>\n",
       "      <td>2007</td>\n",
       "    </tr>\n",
       "    <tr>\n",
       "      <th>1</th>\n",
       "      <td>11 Ursae Minoris b</td>\n",
       "      <td>409.0</td>\n",
       "      <td>14.7400</td>\n",
       "      <td>5.01300</td>\n",
       "      <td>2009</td>\n",
       "    </tr>\n",
       "    <tr>\n",
       "      <th>2</th>\n",
       "      <td>14 Andromedae b</td>\n",
       "      <td>246.0</td>\n",
       "      <td>4.8000</td>\n",
       "      <td>5.23133</td>\n",
       "      <td>2008</td>\n",
       "    </tr>\n",
       "    <tr>\n",
       "      <th>3</th>\n",
       "      <td>18 Delphini b</td>\n",
       "      <td>249.0</td>\n",
       "      <td>10.3000</td>\n",
       "      <td>5.51048</td>\n",
       "      <td>2008</td>\n",
       "    </tr>\n",
       "    <tr>\n",
       "      <th>4</th>\n",
       "      <td>24 Bootis b</td>\n",
       "      <td>313.0</td>\n",
       "      <td>0.9100</td>\n",
       "      <td>5.59000</td>\n",
       "      <td>2018</td>\n",
       "    </tr>\n",
       "    <tr>\n",
       "      <th>...</th>\n",
       "      <td>...</td>\n",
       "      <td>...</td>\n",
       "      <td>...</td>\n",
       "      <td>...</td>\n",
       "      <td>...</td>\n",
       "    </tr>\n",
       "    <tr>\n",
       "      <th>229</th>\n",
       "      <td>Upsilon Andromedae b</td>\n",
       "      <td>44.0</td>\n",
       "      <td>0.6876</td>\n",
       "      <td>4.09565</td>\n",
       "      <td>1996</td>\n",
       "    </tr>\n",
       "    <tr>\n",
       "      <th>230</th>\n",
       "      <td>Upsilon Andromedae c</td>\n",
       "      <td>44.0</td>\n",
       "      <td>1.9810</td>\n",
       "      <td>4.09565</td>\n",
       "      <td>1999</td>\n",
       "    </tr>\n",
       "    <tr>\n",
       "      <th>231</th>\n",
       "      <td>Upsilon Andromedae d</td>\n",
       "      <td>44.0</td>\n",
       "      <td>4.1320</td>\n",
       "      <td>4.09565</td>\n",
       "      <td>1999</td>\n",
       "    </tr>\n",
       "    <tr>\n",
       "      <th>232</th>\n",
       "      <td>WISEP J121756.91+162640.2 A b</td>\n",
       "      <td>33.0</td>\n",
       "      <td>22.0000</td>\n",
       "      <td>NaN</td>\n",
       "      <td>2012</td>\n",
       "    </tr>\n",
       "    <tr>\n",
       "      <th>233</th>\n",
       "      <td>Xi Aquilae b</td>\n",
       "      <td>183.0</td>\n",
       "      <td>2.8000</td>\n",
       "      <td>4.70964</td>\n",
       "      <td>2007</td>\n",
       "    </tr>\n",
       "  </tbody>\n",
       "</table>\n",
       "<p>234 rows × 5 columns</p>\n",
       "</div>"
      ],
      "text/plain": [
       "                              NAME  LIGHT-YEARS FROM EARTH  PLANET MASS  \\\n",
       "0             11 Comae Berenices b                   304.0      19.4000   \n",
       "1               11 Ursae Minoris b                   409.0      14.7400   \n",
       "2                  14 Andromedae b                   246.0       4.8000   \n",
       "3                    18 Delphini b                   249.0      10.3000   \n",
       "4                      24 Bootis b                   313.0       0.9100   \n",
       "..                             ...                     ...          ...   \n",
       "229           Upsilon Andromedae b                    44.0       0.6876   \n",
       "230           Upsilon Andromedae c                    44.0       1.9810   \n",
       "231           Upsilon Andromedae d                    44.0       4.1320   \n",
       "232  WISEP J121756.91+162640.2 A b                    33.0      22.0000   \n",
       "233                   Xi Aquilae b                   183.0       2.8000   \n",
       "\n",
       "     STELLAR MAGNITUDE  DISCOVERY DATE  \n",
       "0              4.72307            2007  \n",
       "1              5.01300            2009  \n",
       "2              5.23133            2008  \n",
       "3              5.51048            2008  \n",
       "4              5.59000            2018  \n",
       "..                 ...             ...  \n",
       "229            4.09565            1996  \n",
       "230            4.09565            1999  \n",
       "231            4.09565            1999  \n",
       "232                NaN            2012  \n",
       "233            4.70964            2007  \n",
       "\n",
       "[234 rows x 5 columns]"
      ]
     },
     "execution_count": 7,
     "metadata": {},
     "output_type": "execute_result"
    }
   ],
   "source": [
    "# remove string from column \n",
    "planets['PLANET MASS'].replace('[A-Z][a-z]+', '', regex=True, inplace=True)\n",
    "\n",
    "# to numeric \n",
    "planets['PLANET MASS'] = pd.to_numeric(planets['PLANET MASS'])\n",
    "\n",
    "# check for string removal \n",
    "planets "
   ]
  },
  {
   "cell_type": "code",
   "execution_count": 8,
   "metadata": {},
   "outputs": [
    {
     "name": "stdout",
     "output_type": "stream",
     "text": [
      "<class 'pandas.core.frame.DataFrame'>\n",
      "RangeIndex: 234 entries, 0 to 233\n",
      "Data columns (total 5 columns):\n",
      " #   Column                  Non-Null Count  Dtype  \n",
      "---  ------                  --------------  -----  \n",
      " 0   NAME                    234 non-null    object \n",
      " 1   LIGHT-YEARS FROM EARTH  230 non-null    float64\n",
      " 2   PLANET MASS             234 non-null    float64\n",
      " 3   STELLAR MAGNITUDE       138 non-null    float64\n",
      " 4   DISCOVERY DATE          234 non-null    int64  \n",
      "dtypes: float64(3), int64(1), object(1)\n",
      "memory usage: 9.3+ KB\n"
     ]
    }
   ],
   "source": [
    "# check for float64 dtype \n",
    "planets.info()"
   ]
  },
  {
   "cell_type": "markdown",
   "metadata": {},
   "source": [
    "Now, we need to convert our Earth units to Jupiters. \n",
    "\n",
    "- Earth = 5.972 x10^24 kg \n",
    "- Jupiter = 1.898 x10^27 kg "
   ]
  },
  {
   "cell_type": "code",
   "execution_count": 9,
   "metadata": {},
   "outputs": [
    {
     "data": {
      "text/plain": [
       "317.8164768921634"
      ]
     },
     "execution_count": 9,
     "metadata": {},
     "output_type": "execute_result"
    }
   ],
   "source": [
    "# earths per jupiter \n",
    "(1.898 * 10**27) / (5.972 * 10**24)"
   ]
  },
  {
   "cell_type": "markdown",
   "metadata": {},
   "source": [
    "From our calculations, 317.816 Earths fit inside one Jupiter. To convert our Earths to Jupiters all we need to do is divide the Earths by 317.816: "
   ]
  },
  {
   "cell_type": "code",
   "execution_count": 10,
   "metadata": {},
   "outputs": [],
   "source": [
    "# earths to jupiters conversion \n",
    "planets.loc[eindex, 'PLANET MASS'] = planets.loc[eindex, 'PLANET MASS'] / 317.816"
   ]
  },
  {
   "cell_type": "code",
   "execution_count": 11,
   "metadata": {},
   "outputs": [
    {
     "data": {
      "text/html": [
       "<div>\n",
       "<style scoped>\n",
       "    .dataframe tbody tr th:only-of-type {\n",
       "        vertical-align: middle;\n",
       "    }\n",
       "\n",
       "    .dataframe tbody tr th {\n",
       "        vertical-align: top;\n",
       "    }\n",
       "\n",
       "    .dataframe thead th {\n",
       "        text-align: right;\n",
       "    }\n",
       "</style>\n",
       "<table border=\"1\" class=\"dataframe\">\n",
       "  <thead>\n",
       "    <tr style=\"text-align: right;\">\n",
       "      <th></th>\n",
       "      <th>NAME</th>\n",
       "      <th>LIGHT-YEARS FROM EARTH</th>\n",
       "      <th>PLANET MASS</th>\n",
       "      <th>STELLAR MAGNITUDE</th>\n",
       "      <th>DISCOVERY DATE</th>\n",
       "    </tr>\n",
       "  </thead>\n",
       "  <tbody>\n",
       "    <tr>\n",
       "      <th>15</th>\n",
       "      <td>55 Cancri e</td>\n",
       "      <td>41.0</td>\n",
       "      <td>0.025140</td>\n",
       "      <td>5.95084</td>\n",
       "      <td>2004</td>\n",
       "    </tr>\n",
       "    <tr>\n",
       "      <th>17</th>\n",
       "      <td>61 Virginis b</td>\n",
       "      <td>28.0</td>\n",
       "      <td>0.016047</td>\n",
       "      <td>4.69550</td>\n",
       "      <td>2009</td>\n",
       "    </tr>\n",
       "    <tr>\n",
       "      <th>18</th>\n",
       "      <td>61 Virginis c</td>\n",
       "      <td>28.0</td>\n",
       "      <td>0.057266</td>\n",
       "      <td>4.69550</td>\n",
       "      <td>2009</td>\n",
       "    </tr>\n",
       "    <tr>\n",
       "      <th>19</th>\n",
       "      <td>61 Virginis d</td>\n",
       "      <td>28.0</td>\n",
       "      <td>0.072054</td>\n",
       "      <td>4.69550</td>\n",
       "      <td>2009</td>\n",
       "    </tr>\n",
       "    <tr>\n",
       "      <th>43</th>\n",
       "      <td>HD 102365 b</td>\n",
       "      <td>30.0</td>\n",
       "      <td>0.050344</td>\n",
       "      <td>4.89000</td>\n",
       "      <td>2010</td>\n",
       "    </tr>\n",
       "    <tr>\n",
       "      <th>51</th>\n",
       "      <td>HD 136352 b</td>\n",
       "      <td>48.0</td>\n",
       "      <td>0.014537</td>\n",
       "      <td>5.65000</td>\n",
       "      <td>2019</td>\n",
       "    </tr>\n",
       "    <tr>\n",
       "      <th>52</th>\n",
       "      <td>HD 136352 c</td>\n",
       "      <td>48.0</td>\n",
       "      <td>0.035524</td>\n",
       "      <td>5.65000</td>\n",
       "      <td>2019</td>\n",
       "    </tr>\n",
       "    <tr>\n",
       "      <th>53</th>\n",
       "      <td>HD 136352 d</td>\n",
       "      <td>48.0</td>\n",
       "      <td>0.033038</td>\n",
       "      <td>5.65000</td>\n",
       "      <td>2019</td>\n",
       "    </tr>\n",
       "    <tr>\n",
       "      <th>61</th>\n",
       "      <td>HD 160691 d</td>\n",
       "      <td>51.0</td>\n",
       "      <td>0.033210</td>\n",
       "      <td>5.12000</td>\n",
       "      <td>2004</td>\n",
       "    </tr>\n",
       "    <tr>\n",
       "      <th>63</th>\n",
       "      <td>HD 16417 b</td>\n",
       "      <td>83.0</td>\n",
       "      <td>0.069537</td>\n",
       "      <td>5.78000</td>\n",
       "      <td>2008</td>\n",
       "    </tr>\n",
       "  </tbody>\n",
       "</table>\n",
       "</div>"
      ],
      "text/plain": [
       "             NAME  LIGHT-YEARS FROM EARTH  PLANET MASS  STELLAR MAGNITUDE  \\\n",
       "15    55 Cancri e                    41.0     0.025140            5.95084   \n",
       "17  61 Virginis b                    28.0     0.016047            4.69550   \n",
       "18  61 Virginis c                    28.0     0.057266            4.69550   \n",
       "19  61 Virginis d                    28.0     0.072054            4.69550   \n",
       "43    HD 102365 b                    30.0     0.050344            4.89000   \n",
       "51    HD 136352 b                    48.0     0.014537            5.65000   \n",
       "52    HD 136352 c                    48.0     0.035524            5.65000   \n",
       "53    HD 136352 d                    48.0     0.033038            5.65000   \n",
       "61    HD 160691 d                    51.0     0.033210            5.12000   \n",
       "63     HD 16417 b                    83.0     0.069537            5.78000   \n",
       "\n",
       "    DISCOVERY DATE  \n",
       "15            2004  \n",
       "17            2009  \n",
       "18            2009  \n",
       "19            2009  \n",
       "43            2010  \n",
       "51            2019  \n",
       "52            2019  \n",
       "53            2019  \n",
       "61            2004  \n",
       "63            2008  "
      ]
     },
     "execution_count": 11,
     "metadata": {},
     "output_type": "execute_result"
    }
   ],
   "source": [
    "# check \n",
    "planets.loc[eindex][:10]"
   ]
  },
  {
   "cell_type": "markdown",
   "metadata": {},
   "source": [
    "Before doing any clustering on our data, let's create some initial visualizations. Since our values are fairly large, we can plot them on a log scale. "
   ]
  },
  {
   "cell_type": "code",
   "execution_count": 12,
   "metadata": {},
   "outputs": [
    {
     "data": {
      "text/html": [
       "\n",
       "<div id=\"altair-viz-b98866ea1b7d44acaa45fbee96b9cd67\"></div>\n",
       "<script type=\"text/javascript\">\n",
       "  (function(spec, embedOpt){\n",
       "    let outputDiv = document.currentScript.previousElementSibling;\n",
       "    if (outputDiv.id !== \"altair-viz-b98866ea1b7d44acaa45fbee96b9cd67\") {\n",
       "      outputDiv = document.getElementById(\"altair-viz-b98866ea1b7d44acaa45fbee96b9cd67\");\n",
       "    }\n",
       "    const paths = {\n",
       "      \"vega\": \"https://cdn.jsdelivr.net/npm//vega@5?noext\",\n",
       "      \"vega-lib\": \"https://cdn.jsdelivr.net/npm//vega-lib?noext\",\n",
       "      \"vega-lite\": \"https://cdn.jsdelivr.net/npm//vega-lite@4.8.1?noext\",\n",
       "      \"vega-embed\": \"https://cdn.jsdelivr.net/npm//vega-embed@6?noext\",\n",
       "    };\n",
       "\n",
       "    function loadScript(lib) {\n",
       "      return new Promise(function(resolve, reject) {\n",
       "        var s = document.createElement('script');\n",
       "        s.src = paths[lib];\n",
       "        s.async = true;\n",
       "        s.onload = () => resolve(paths[lib]);\n",
       "        s.onerror = () => reject(`Error loading script: ${paths[lib]}`);\n",
       "        document.getElementsByTagName(\"head\")[0].appendChild(s);\n",
       "      });\n",
       "    }\n",
       "\n",
       "    function showError(err) {\n",
       "      outputDiv.innerHTML = `<div class=\"error\" style=\"color:red;\">${err}</div>`;\n",
       "      throw err;\n",
       "    }\n",
       "\n",
       "    function displayChart(vegaEmbed) {\n",
       "      vegaEmbed(outputDiv, spec, embedOpt)\n",
       "        .catch(err => showError(`Javascript Error: ${err.message}<br>This usually means there's a typo in your chart specification. See the javascript console for the full traceback.`));\n",
       "    }\n",
       "\n",
       "    if(typeof define === \"function\" && define.amd) {\n",
       "      requirejs.config({paths});\n",
       "      require([\"vega-embed\"], displayChart, err => showError(`Error loading script: ${err.message}`));\n",
       "    } else if (typeof vegaEmbed === \"function\") {\n",
       "      displayChart(vegaEmbed);\n",
       "    } else {\n",
       "      loadScript(\"vega\")\n",
       "        .then(() => loadScript(\"vega-lite\"))\n",
       "        .then(() => loadScript(\"vega-embed\"))\n",
       "        .catch(showError)\n",
       "        .then(() => displayChart(vegaEmbed));\n",
       "    }\n",
       "  })({\"config\": {\"view\": {\"continuousWidth\": 400, \"continuousHeight\": 300}}, \"data\": {\"name\": \"data-0d175c4718245bebc47455ecf856a5b6\"}, \"mark\": \"circle\", \"encoding\": {\"tooltip\": [{\"type\": \"nominal\", \"field\": \"NAME\"}], \"x\": {\"type\": \"quantitative\", \"field\": \"PLANET MASS\", \"scale\": {\"type\": \"log\"}}, \"y\": {\"type\": \"quantitative\", \"field\": \"LIGHT-YEARS FROM EARTH\", \"scale\": {\"type\": \"log\"}}}, \"title\": \"Planet Mass vs Light-Years from Earth\", \"$schema\": \"https://vega.github.io/schema/vega-lite/v4.8.1.json\", \"datasets\": {\"data-0d175c4718245bebc47455ecf856a5b6\": [{\"NAME\": \"11 Comae Berenices b\", \"LIGHT-YEARS FROM EARTH\": 304.0, \"PLANET MASS\": 19.4, \"STELLAR MAGNITUDE\": 4.72307, \"DISCOVERY DATE\": 2007}, {\"NAME\": \"11 Ursae Minoris b\", \"LIGHT-YEARS FROM EARTH\": 409.0, \"PLANET MASS\": 14.74, \"STELLAR MAGNITUDE\": 5.013, \"DISCOVERY DATE\": 2009}, {\"NAME\": \"14 Andromedae b\", \"LIGHT-YEARS FROM EARTH\": 246.0, \"PLANET MASS\": 4.8, \"STELLAR MAGNITUDE\": 5.23133, \"DISCOVERY DATE\": 2008}, {\"NAME\": \"18 Delphini b\", \"LIGHT-YEARS FROM EARTH\": 249.0, \"PLANET MASS\": 10.3, \"STELLAR MAGNITUDE\": 5.51048, \"DISCOVERY DATE\": 2008}, {\"NAME\": \"24 Bootis b\", \"LIGHT-YEARS FROM EARTH\": 313.0, \"PLANET MASS\": 0.91, \"STELLAR MAGNITUDE\": 5.59, \"DISCOVERY DATE\": 2018}, {\"NAME\": \"42 Draconis b\", \"LIGHT-YEARS FROM EARTH\": 296.0, \"PLANET MASS\": 3.88, \"STELLAR MAGNITUDE\": 4.8262, \"DISCOVERY DATE\": 2008}, {\"NAME\": \"47 Ursae Majoris b\", \"LIGHT-YEARS FROM EARTH\": 45.0, \"PLANET MASS\": 2.53, \"STELLAR MAGNITUDE\": 5.03352, \"DISCOVERY DATE\": 1996}, {\"NAME\": \"47 Ursae Majoris c\", \"LIGHT-YEARS FROM EARTH\": 45.0, \"PLANET MASS\": 0.54, \"STELLAR MAGNITUDE\": 5.03352, \"DISCOVERY DATE\": 2001}, {\"NAME\": \"47 Ursae Majoris d\", \"LIGHT-YEARS FROM EARTH\": 45.0, \"PLANET MASS\": 1.64, \"STELLAR MAGNITUDE\": 5.03352, \"DISCOVERY DATE\": 2009}, {\"NAME\": \"4 Ursae Majoris b\", \"LIGHT-YEARS FROM EARTH\": 240.0, \"PLANET MASS\": 7.1, \"STELLAR MAGNITUDE\": 4.5801, \"DISCOVERY DATE\": 2006}, {\"NAME\": \"51 Eridani b\", \"LIGHT-YEARS FROM EARTH\": 97.0, \"PLANET MASS\": 2.0, \"STELLAR MAGNITUDE\": 5.21149, \"DISCOVERY DATE\": 2015}, {\"NAME\": \"51 Pegasi b\", \"LIGHT-YEARS FROM EARTH\": 50.0, \"PLANET MASS\": 0.46, \"STELLAR MAGNITUDE\": 5.45309, \"DISCOVERY DATE\": 1995}, {\"NAME\": \"55 Cancri b\", \"LIGHT-YEARS FROM EARTH\": 41.0, \"PLANET MASS\": 0.8306, \"STELLAR MAGNITUDE\": 5.95084, \"DISCOVERY DATE\": 1996}, {\"NAME\": \"55 Cancri c\", \"LIGHT-YEARS FROM EARTH\": 41.0, \"PLANET MASS\": 0.1714, \"STELLAR MAGNITUDE\": 5.95084, \"DISCOVERY DATE\": 2004}, {\"NAME\": \"55 Cancri d\", \"LIGHT-YEARS FROM EARTH\": 41.0, \"PLANET MASS\": 3.878, \"STELLAR MAGNITUDE\": 5.95084, \"DISCOVERY DATE\": 2002}, {\"NAME\": \"55 Cancri e\", \"LIGHT-YEARS FROM EARTH\": 41.0, \"PLANET MASS\": 0.02514033277116319, \"STELLAR MAGNITUDE\": 5.95084, \"DISCOVERY DATE\": 2004}, {\"NAME\": \"55 Cancri f\", \"LIGHT-YEARS FROM EARTH\": 41.0, \"PLANET MASS\": 0.141, \"STELLAR MAGNITUDE\": 5.95084, \"DISCOVERY DATE\": 2007}, {\"NAME\": \"61 Virginis b\", \"LIGHT-YEARS FROM EARTH\": 28.0, \"PLANET MASS\": 0.01604702091776374, \"STELLAR MAGNITUDE\": 4.6955, \"DISCOVERY DATE\": 2009}, {\"NAME\": \"61 Virginis c\", \"LIGHT-YEARS FROM EARTH\": 28.0, \"PLANET MASS\": 0.05726583935358824, \"STELLAR MAGNITUDE\": 4.6955, \"DISCOVERY DATE\": 2009}, {\"NAME\": \"61 Virginis d\", \"LIGHT-YEARS FROM EARTH\": 28.0, \"PLANET MASS\": 0.07205427039544894, \"STELLAR MAGNITUDE\": 4.6955, \"DISCOVERY DATE\": 2009}, {\"NAME\": \"6 Lyncis b\", \"LIGHT-YEARS FROM EARTH\": 178.0, \"PLANET MASS\": 2.01, \"STELLAR MAGNITUDE\": 5.87307, \"DISCOVERY DATE\": 2008}, {\"NAME\": \"70 Virginis b\", \"LIGHT-YEARS FROM EARTH\": 58.0, \"PLANET MASS\": 7.49, \"STELLAR MAGNITUDE\": 4.96808, \"DISCOVERY DATE\": 1996}, {\"NAME\": \"75 Ceti b\", \"LIGHT-YEARS FROM EARTH\": 271.0, \"PLANET MASS\": 3.0, \"STELLAR MAGNITUDE\": 5.3532, \"DISCOVERY DATE\": 2012}, {\"NAME\": \"7 Canis Majoris b\", \"LIGHT-YEARS FROM EARTH\": 65.0, \"PLANET MASS\": 1.85, \"STELLAR MAGNITUDE\": 3.95, \"DISCOVERY DATE\": 2011}, {\"NAME\": \"7 Canis Majoris c\", \"LIGHT-YEARS FROM EARTH\": 65.0, \"PLANET MASS\": 0.87, \"STELLAR MAGNITUDE\": 3.95, \"DISCOVERY DATE\": 2019}, {\"NAME\": \"81 Ceti b\", \"LIGHT-YEARS FROM EARTH\": 330.0, \"PLANET MASS\": 5.3, \"STELLAR MAGNITUDE\": 5.64307, \"DISCOVERY DATE\": 2008}, {\"NAME\": \"91 Aquarii b\", \"LIGHT-YEARS FROM EARTH\": 144.0, \"PLANET MASS\": 3.2, \"STELLAR MAGNITUDE\": 4.23946, \"DISCOVERY DATE\": 2013}, {\"NAME\": \"Alpha Arietis b\", \"LIGHT-YEARS FROM EARTH\": 66.0, \"PLANET MASS\": 1.8, \"STELLAR MAGNITUDE\": 2.00538, \"DISCOVERY DATE\": 2010}, {\"NAME\": \"Alpha Tauri b\", \"LIGHT-YEARS FROM EARTH\": 67.0, \"PLANET MASS\": 6.47, \"STELLAR MAGNITUDE\": 0.872, \"DISCOVERY DATE\": 2015}, {\"NAME\": \"Beta Cancri b\", \"LIGHT-YEARS FROM EARTH\": 290.0, \"PLANET MASS\": 7.8, \"STELLAR MAGNITUDE\": 3.51012, \"DISCOVERY DATE\": 2014}, {\"NAME\": \"Beta Pictoris b\", \"LIGHT-YEARS FROM EARTH\": 64.0, \"PLANET MASS\": 11.0, \"STELLAR MAGNITUDE\": 3.85, \"DISCOVERY DATE\": 2008}, {\"NAME\": \"Beta Pictoris c\", \"LIGHT-YEARS FROM EARTH\": 64.0, \"PLANET MASS\": 9.0, \"STELLAR MAGNITUDE\": 3.85, \"DISCOVERY DATE\": 2019}, {\"NAME\": \"Beta Ursae Minoris b\", \"LIGHT-YEARS FROM EARTH\": 126.0, \"PLANET MASS\": 6.1, \"STELLAR MAGNITUDE\": 2.0569, \"DISCOVERY DATE\": 2014}, {\"NAME\": \"CFBDSIR J145829+101343 b\", \"LIGHT-YEARS FROM EARTH\": 75.0, \"PLANET MASS\": 10.5, \"STELLAR MAGNITUDE\": null, \"DISCOVERY DATE\": 2011}, {\"NAME\": \"Epsilon Coronae Borealis b\", \"LIGHT-YEARS FROM EARTH\": 228.0, \"PLANET MASS\": 6.7, \"STELLAR MAGNITUDE\": 4.12577, \"DISCOVERY DATE\": 2012}, {\"NAME\": \"Epsilon Eridani b\", \"LIGHT-YEARS FROM EARTH\": 10.0, \"PLANET MASS\": 0.78, \"STELLAR MAGNITUDE\": 3.71548, \"DISCOVERY DATE\": 2000}, {\"NAME\": \"Epsilon Indi A b\", \"LIGHT-YEARS FROM EARTH\": 12.0, \"PLANET MASS\": 3.25, \"STELLAR MAGNITUDE\": 4.69, \"DISCOVERY DATE\": 2019}, {\"NAME\": \"Epsilon Tauri b\", \"LIGHT-YEARS FROM EARTH\": 155.0, \"PLANET MASS\": 7.6, \"STELLAR MAGNITUDE\": 3.523, \"DISCOVERY DATE\": 2006}, {\"NAME\": \"Gamma 1 Leonis b\", \"LIGHT-YEARS FROM EARTH\": 130.0, \"PLANET MASS\": 8.78, \"STELLAR MAGNITUDE\": 1.99509, \"DISCOVERY DATE\": 2009}, {\"NAME\": \"Gamma Cephei b\", \"LIGHT-YEARS FROM EARTH\": 46.0, \"PLANET MASS\": 1.85, \"STELLAR MAGNITUDE\": 3.23006, \"DISCOVERY DATE\": 2003}, {\"NAME\": \"Gamma Librae b\", \"LIGHT-YEARS FROM EARTH\": 155.0, \"PLANET MASS\": 1.02, \"STELLAR MAGNITUDE\": 3.90672, \"DISCOVERY DATE\": 2018}, {\"NAME\": \"Gamma Librae c\", \"LIGHT-YEARS FROM EARTH\": 155.0, \"PLANET MASS\": 4.58, \"STELLAR MAGNITUDE\": 3.90672, \"DISCOVERY DATE\": 2018}, {\"NAME\": \"GJ 504 b\", \"LIGHT-YEARS FROM EARTH\": 57.0, \"PLANET MASS\": 4.0, \"STELLAR MAGNITUDE\": 5.18799, \"DISCOVERY DATE\": 2013}, {\"NAME\": \"HD 102365 b\", \"LIGHT-YEARS FROM EARTH\": 30.0, \"PLANET MASS\": 0.050343595036121534, \"STELLAR MAGNITUDE\": 4.89, \"DISCOVERY DATE\": 2010}, {\"NAME\": \"HD 104985 b\", \"LIGHT-YEARS FROM EARTH\": 328.0, \"PLANET MASS\": 8.3, \"STELLAR MAGNITUDE\": 5.79389, \"DISCOVERY DATE\": 2003}, {\"NAME\": \"HD 10647 b\", \"LIGHT-YEARS FROM EARTH\": 57.0, \"PLANET MASS\": 0.94, \"STELLAR MAGNITUDE\": 5.52, \"DISCOVERY DATE\": 2006}, {\"NAME\": \"HD 110014 b\", \"LIGHT-YEARS FROM EARTH\": 329.0, \"PLANET MASS\": 11.09, \"STELLAR MAGNITUDE\": 4.64597, \"DISCOVERY DATE\": 2009}, {\"NAME\": \"HD 113996 b\", \"LIGHT-YEARS FROM EARTH\": 379.0, \"PLANET MASS\": 6.3, \"STELLAR MAGNITUDE\": 4.77044, \"DISCOVERY DATE\": 2017}, {\"NAME\": \"HD 114613 b\", \"LIGHT-YEARS FROM EARTH\": 66.0, \"PLANET MASS\": 0.357, \"STELLAR MAGNITUDE\": 4.85, \"DISCOVERY DATE\": 2014}, {\"NAME\": \"HD 11977 b\", \"LIGHT-YEARS FROM EARTH\": 222.0, \"PLANET MASS\": 6.54, \"STELLAR MAGNITUDE\": 4.68, \"DISCOVERY DATE\": 2005}, {\"NAME\": \"HD 120084 b\", \"LIGHT-YEARS FROM EARTH\": 336.0, \"PLANET MASS\": 4.5, \"STELLAR MAGNITUDE\": 5.90686, \"DISCOVERY DATE\": 2013}, {\"NAME\": \"HD 136352 b\", \"LIGHT-YEARS FROM EARTH\": 48.0, \"PLANET MASS\": 0.014536713066680093, \"STELLAR MAGNITUDE\": 5.65, \"DISCOVERY DATE\": 2019}, {\"NAME\": \"HD 136352 c\", \"LIGHT-YEARS FROM EARTH\": 48.0, \"PLANET MASS\": 0.035523699247363254, \"STELLAR MAGNITUDE\": 5.65, \"DISCOVERY DATE\": 2019}, {\"NAME\": \"HD 136352 d\", \"LIGHT-YEARS FROM EARTH\": 48.0, \"PLANET MASS\": 0.03303798424245476, \"STELLAR MAGNITUDE\": 5.65, \"DISCOVERY DATE\": 2019}, {\"NAME\": \"HD 139357 b\", \"LIGHT-YEARS FROM EARTH\": 366.0, \"PLANET MASS\": 9.76, \"STELLAR MAGNITUDE\": 5.97272, \"DISCOVERY DATE\": 2008}, {\"NAME\": \"HD 142 b\", \"LIGHT-YEARS FROM EARTH\": 85.0, \"PLANET MASS\": 1.25, \"STELLAR MAGNITUDE\": 5.7, \"DISCOVERY DATE\": 2001}, {\"NAME\": \"HD 142 c\", \"LIGHT-YEARS FROM EARTH\": 85.0, \"PLANET MASS\": 5.3, \"STELLAR MAGNITUDE\": 5.7, \"DISCOVERY DATE\": 2012}, {\"NAME\": \"HD 147513 b\", \"LIGHT-YEARS FROM EARTH\": 42.0, \"PLANET MASS\": 1.21, \"STELLAR MAGNITUDE\": 5.37, \"DISCOVERY DATE\": 2003}, {\"NAME\": \"HD 158996 b\", \"LIGHT-YEARS FROM EARTH\": 925.0, \"PLANET MASS\": 14.0, \"STELLAR MAGNITUDE\": 5.72291, \"DISCOVERY DATE\": 2018}, {\"NAME\": \"HD 160691 b\", \"LIGHT-YEARS FROM EARTH\": 51.0, \"PLANET MASS\": 1.676, \"STELLAR MAGNITUDE\": 5.12, \"DISCOVERY DATE\": 2000}, {\"NAME\": \"HD 160691 c\", \"LIGHT-YEARS FROM EARTH\": 51.0, \"PLANET MASS\": 1.814, \"STELLAR MAGNITUDE\": 5.12, \"DISCOVERY DATE\": 2004}, {\"NAME\": \"HD 160691 d\", \"LIGHT-YEARS FROM EARTH\": 51.0, \"PLANET MASS\": 0.033210096407984495, \"STELLAR MAGNITUDE\": 5.12, \"DISCOVERY DATE\": 2004}, {\"NAME\": \"HD 160691 e\", \"LIGHT-YEARS FROM EARTH\": 51.0, \"PLANET MASS\": 0.5219, \"STELLAR MAGNITUDE\": 5.12, \"DISCOVERY DATE\": 2006}, {\"NAME\": \"HD 16417 b\", \"LIGHT-YEARS FROM EARTH\": 83.0, \"PLANET MASS\": 0.06953709064364287, \"STELLAR MAGNITUDE\": 5.78, \"DISCOVERY DATE\": 2008}, {\"NAME\": \"HD 167042 b\", \"LIGHT-YEARS FROM EARTH\": 162.0, \"PLANET MASS\": 1.7, \"STELLAR MAGNITUDE\": 5.98796, \"DISCOVERY DATE\": 2007}, {\"NAME\": \"HD 169830 b\", \"LIGHT-YEARS FROM EARTH\": 123.0, \"PLANET MASS\": 2.88, \"STELLAR MAGNITUDE\": 5.9, \"DISCOVERY DATE\": 2000}, {\"NAME\": \"HD 169830 c\", \"LIGHT-YEARS FROM EARTH\": 123.0, \"PLANET MASS\": 4.04, \"STELLAR MAGNITUDE\": 5.9, \"DISCOVERY DATE\": 2003}, {\"NAME\": \"HD 190360 b\", \"LIGHT-YEARS FROM EARTH\": 52.0, \"PLANET MASS\": 1.54, \"STELLAR MAGNITUDE\": 5.738, \"DISCOVERY DATE\": 2003}, {\"NAME\": \"HD 190360 c\", \"LIGHT-YEARS FROM EARTH\": 52.0, \"PLANET MASS\": 0.06000012585898759, \"STELLAR MAGNITUDE\": 5.738, \"DISCOVERY DATE\": 2005}, {\"NAME\": \"HD 192310 b\", \"LIGHT-YEARS FROM EARTH\": 29.0, \"PLANET MASS\": 0.05317542225690337, \"STELLAR MAGNITUDE\": 5.73, \"DISCOVERY DATE\": 2011}, {\"NAME\": \"HD 192310 c\", \"LIGHT-YEARS FROM EARTH\": 29.0, \"PLANET MASS\": 0.0755153925541823, \"STELLAR MAGNITUDE\": 5.73, \"DISCOVERY DATE\": 2011}, {\"NAME\": \"HD 19994 b\", \"LIGHT-YEARS FROM EARTH\": 73.0, \"PLANET MASS\": 1.37, \"STELLAR MAGNITUDE\": 5.06345, \"DISCOVERY DATE\": 2003}, {\"NAME\": \"HD 20794 b\", \"LIGHT-YEARS FROM EARTH\": 20.0, \"PLANET MASS\": 0.00849548166234551, \"STELLAR MAGNITUDE\": 4.26, \"DISCOVERY DATE\": 2011}, {\"NAME\": \"HD 20794 c\", \"LIGHT-YEARS FROM EARTH\": 20.0, \"PLANET MASS\": 0.0075515392554182294, \"STELLAR MAGNITUDE\": 4.26, \"DISCOVERY DATE\": 2011}, {\"NAME\": \"HD 20794 d\", \"LIGHT-YEARS FROM EARTH\": 20.0, \"PLANET MASS\": 0.015103078510836459, \"STELLAR MAGNITUDE\": 4.26, \"DISCOVERY DATE\": 2011}, {\"NAME\": \"HD 20794 e\", \"LIGHT-YEARS FROM EARTH\": 20.0, \"PLANET MASS\": 0.015008684270143732, \"STELLAR MAGNITUDE\": 4.26, \"DISCOVERY DATE\": 2017}, {\"NAME\": \"HD 210702 b\", \"LIGHT-YEARS FROM EARTH\": 177.0, \"PLANET MASS\": 1.808, \"STELLAR MAGNITUDE\": 5.93022, \"DISCOVERY DATE\": 2007}, {\"NAME\": \"HD 219134 b\", \"LIGHT-YEARS FROM EARTH\": 21.0, \"PLANET MASS\": 0.014914290029451004, \"STELLAR MAGNITUDE\": 5.56911, \"DISCOVERY DATE\": 2015}, {\"NAME\": \"HD 219134 c\", \"LIGHT-YEARS FROM EARTH\": 21.0, \"PLANET MASS\": 0.01371862964734312, \"STELLAR MAGNITUDE\": 5.56911, \"DISCOVERY DATE\": 2015}, {\"NAME\": \"HD 219134 d\", \"LIGHT-YEARS FROM EARTH\": 21.0, \"PLANET MASS\": 0.05087849573338033, \"STELLAR MAGNITUDE\": 5.56911, \"DISCOVERY DATE\": 2015}, {\"NAME\": \"HD 219134 f\", \"LIGHT-YEARS FROM EARTH\": 21.0, \"PLANET MASS\": 0.02296926523523045, \"STELLAR MAGNITUDE\": 5.56911, \"DISCOVERY DATE\": 2015}, {\"NAME\": \"HD 219134 g\", \"LIGHT-YEARS FROM EARTH\": 21.0, \"PLANET MASS\": 0.03400149772195233, \"STELLAR MAGNITUDE\": 5.56911, \"DISCOVERY DATE\": 2015}, {\"NAME\": \"HD 219134 h\", \"LIGHT-YEARS FROM EARTH\": 21.0, \"PLANET MASS\": 0.34, \"STELLAR MAGNITUDE\": 5.56911, \"DISCOVERY DATE\": 2015}, {\"NAME\": \"HD 221420 b\", \"LIGHT-YEARS FROM EARTH\": 102.0, \"PLANET MASS\": 9.7, \"STELLAR MAGNITUDE\": 5.82, \"DISCOVERY DATE\": 2019}, {\"NAME\": \"HD 26965 b\", \"LIGHT-YEARS FROM EARTH\": 16.0, \"PLANET MASS\": 0.026650640622246837, \"STELLAR MAGNITUDE\": 4.42018, \"DISCOVERY DATE\": 2018}, {\"NAME\": \"HD 27442 b\", \"LIGHT-YEARS FROM EARTH\": 60.0, \"PLANET MASS\": 1.56, \"STELLAR MAGNITUDE\": 4.44, \"DISCOVERY DATE\": 2000}, {\"NAME\": \"HD 2952 b\", \"LIGHT-YEARS FROM EARTH\": 359.0, \"PLANET MASS\": 1.37, \"STELLAR MAGNITUDE\": 5.9258, \"DISCOVERY DATE\": 2013}, {\"NAME\": \"HD 30562 b\", \"LIGHT-YEARS FROM EARTH\": 85.0, \"PLANET MASS\": 1.22, \"STELLAR MAGNITUDE\": 5.77466, \"DISCOVERY DATE\": 2009}, {\"NAME\": \"HD 33564 b\", \"LIGHT-YEARS FROM EARTH\": 68.0, \"PLANET MASS\": 9.1, \"STELLAR MAGNITUDE\": 5.10111, \"DISCOVERY DATE\": 2005}, {\"NAME\": \"HD 3651 b\", \"LIGHT-YEARS FROM EARTH\": 36.0, \"PLANET MASS\": 0.228, \"STELLAR MAGNITUDE\": 5.88437, \"DISCOVERY DATE\": 2003}, {\"NAME\": \"HD 38529 b\", \"LIGHT-YEARS FROM EARTH\": 138.0, \"PLANET MASS\": 0.797, \"STELLAR MAGNITUDE\": 5.92848, \"DISCOVERY DATE\": 2000}, {\"NAME\": \"HD 38529 c\", \"LIGHT-YEARS FROM EARTH\": 138.0, \"PLANET MASS\": 12.99, \"STELLAR MAGNITUDE\": 5.92848, \"DISCOVERY DATE\": 2000}, {\"NAME\": \"HD 39091 b\", \"LIGHT-YEARS FROM EARTH\": 60.0, \"PLANET MASS\": 12.9, \"STELLAR MAGNITUDE\": 5.65, \"DISCOVERY DATE\": 2001}, {\"NAME\": \"HD 4732 b\", \"LIGHT-YEARS FROM EARTH\": 179.0, \"PLANET MASS\": 2.37, \"STELLAR MAGNITUDE\": 5.9, \"DISCOVERY DATE\": 2012}, {\"NAME\": \"HD 4732 c\", \"LIGHT-YEARS FROM EARTH\": 179.0, \"PLANET MASS\": 2.37, \"STELLAR MAGNITUDE\": 5.9, \"DISCOVERY DATE\": 2012}, {\"NAME\": \"HD 47536 b\", \"LIGHT-YEARS FROM EARTH\": 400.0, \"PLANET MASS\": 7.32, \"STELLAR MAGNITUDE\": 5.25, \"DISCOVERY DATE\": 2002}, {\"NAME\": \"HD 59686 A b\", \"LIGHT-YEARS FROM EARTH\": 291.0, \"PLANET MASS\": 6.92, \"STELLAR MAGNITUDE\": 5.44299, \"DISCOVERY DATE\": 2016}, {\"NAME\": \"HD 60532 b\", \"LIGHT-YEARS FROM EARTH\": 85.0, \"PLANET MASS\": 1.06, \"STELLAR MAGNITUDE\": 4.44, \"DISCOVERY DATE\": 2008}, {\"NAME\": \"HD 60532 c\", \"LIGHT-YEARS FROM EARTH\": 85.0, \"PLANET MASS\": 2.51, \"STELLAR MAGNITUDE\": 4.44, \"DISCOVERY DATE\": 2008}, {\"NAME\": \"HD 62509 b\", \"LIGHT-YEARS FROM EARTH\": 34.0, \"PLANET MASS\": 2.3, \"STELLAR MAGNITUDE\": 1.12512, \"DISCOVERY DATE\": 2006}, {\"NAME\": \"HD 66141 b\", \"LIGHT-YEARS FROM EARTH\": 222.0, \"PLANET MASS\": 6.0, \"STELLAR MAGNITUDE\": 4.37821, \"DISCOVERY DATE\": 2012}, {\"NAME\": \"HD 69830 b\", \"LIGHT-YEARS FROM EARTH\": 41.0, \"PLANET MASS\": 0.03209404183552748, \"STELLAR MAGNITUDE\": 5.96004, \"DISCOVERY DATE\": 2006}, {\"NAME\": \"HD 69830 c\", \"LIGHT-YEARS FROM EARTH\": 41.0, \"PLANET MASS\": 0.03712840133913963, \"STELLAR MAGNITUDE\": 5.96004, \"DISCOVERY DATE\": 2006}, {\"NAME\": \"HD 69830 d\", \"LIGHT-YEARS FROM EARTH\": 41.0, \"PLANET MASS\": 0.05695119188461249, \"STELLAR MAGNITUDE\": 5.96004, \"DISCOVERY DATE\": 2006}, {\"NAME\": \"HD 81688 b\", \"LIGHT-YEARS FROM EARTH\": 280.0, \"PLANET MASS\": 2.7, \"STELLAR MAGNITUDE\": 5.39755, \"DISCOVERY DATE\": 2007}, {\"NAME\": \"HD 81817 b\", \"LIGHT-YEARS FROM EARTH\": 878.0, \"PLANET MASS\": 27.1, \"STELLAR MAGNITUDE\": 4.26489, \"DISCOVERY DATE\": 2020}, {\"NAME\": \"HD 89744 b\", \"LIGHT-YEARS FROM EARTH\": 126.0, \"PLANET MASS\": 8.35, \"STELLAR MAGNITUDE\": 5.73469, \"DISCOVERY DATE\": 1999}, {\"NAME\": \"HIP 105854 b\", \"LIGHT-YEARS FROM EARTH\": 257.0, \"PLANET MASS\": 8.2, \"STELLAR MAGNITUDE\": 5.64, \"DISCOVERY DATE\": 2014}, {\"NAME\": \"HIP 107773 b\", \"LIGHT-YEARS FROM EARTH\": 343.0, \"PLANET MASS\": 1.98, \"STELLAR MAGNITUDE\": 5.62, \"DISCOVERY DATE\": 2015}, {\"NAME\": \"HIP 79098 AB b\", \"LIGHT-YEARS FROM EARTH\": 476.0, \"PLANET MASS\": 20.5, \"STELLAR MAGNITUDE\": 5.86, \"DISCOVERY DATE\": 2019}, {\"NAME\": \"HN Pegasi b\", \"LIGHT-YEARS FROM EARTH\": 59.0, \"PLANET MASS\": 21.9987, \"STELLAR MAGNITUDE\": 5.97707, \"DISCOVERY DATE\": 2006}, {\"NAME\": \"HR 810 b\", \"LIGHT-YEARS FROM EARTH\": 56.0, \"PLANET MASS\": 2.27, \"STELLAR MAGNITUDE\": 5.4, \"DISCOVERY DATE\": 1999}, {\"NAME\": \"HR 8799 b\", \"LIGHT-YEARS FROM EARTH\": 135.0, \"PLANET MASS\": 7.0, \"STELLAR MAGNITUDE\": 5.98, \"DISCOVERY DATE\": 2008}, {\"NAME\": \"HR 8799 c\", \"LIGHT-YEARS FROM EARTH\": 135.0, \"PLANET MASS\": 10.0, \"STELLAR MAGNITUDE\": 5.98, \"DISCOVERY DATE\": 2008}, {\"NAME\": \"HR 8799 d\", \"LIGHT-YEARS FROM EARTH\": 135.0, \"PLANET MASS\": 10.0, \"STELLAR MAGNITUDE\": 5.98, \"DISCOVERY DATE\": 2008}, {\"NAME\": \"HR 8799 e\", \"LIGHT-YEARS FROM EARTH\": 135.0, \"PLANET MASS\": 10.0, \"STELLAR MAGNITUDE\": 5.98, \"DISCOVERY DATE\": 2010}, {\"NAME\": \"Iota Draconis b\", \"LIGHT-YEARS FROM EARTH\": 102.0, \"PLANET MASS\": 8.82, \"STELLAR MAGNITUDE\": 3.29668, \"DISCOVERY DATE\": 2002}, {\"NAME\": \"Kappa Andromedae b\", \"LIGHT-YEARS FROM EARTH\": 163.0, \"PLANET MASS\": 13.616, \"STELLAR MAGNITUDE\": 4.13791, \"DISCOVERY DATE\": 2012}, {\"NAME\": \"Kappa Coronae Borealis b\", \"LIGHT-YEARS FROM EARTH\": 98.0, \"PLANET MASS\": 2.0, \"STELLAR MAGNITUDE\": 4.79734, \"DISCOVERY DATE\": 2007}, {\"NAME\": \"KMT-2016-BLG-0212L b\", \"LIGHT-YEARS FROM EARTH\": 20551.0, \"PLANET MASS\": 18.0, \"STELLAR MAGNITUDE\": null, \"DISCOVERY DATE\": 2018}, {\"NAME\": \"KMT-2016-BLG-1107L b\", \"LIGHT-YEARS FROM EARTH\": 21696.0, \"PLANET MASS\": 3.283, \"STELLAR MAGNITUDE\": null, \"DISCOVERY DATE\": 2019}, {\"NAME\": \"KMT-2016-BLG-1397L b\", \"LIGHT-YEARS FROM EARTH\": 21529.0, \"PLANET MASS\": 7.0, \"STELLAR MAGNITUDE\": null, \"DISCOVERY DATE\": 2018}, {\"NAME\": \"KMT-2016-BLG-1820L b\", \"LIGHT-YEARS FROM EARTH\": 20420.0, \"PLANET MASS\": 4.57, \"STELLAR MAGNITUDE\": null, \"DISCOVERY DATE\": 2018}, {\"NAME\": \"KMT-2016-BLG-1836L b\", \"LIGHT-YEARS FROM EARTH\": 23160.0, \"PLANET MASS\": 2.2, \"STELLAR MAGNITUDE\": null, \"DISCOVERY DATE\": 2019}, {\"NAME\": \"KMT-2016-BLG-2142L b\", \"LIGHT-YEARS FROM EARTH\": 22867.0, \"PLANET MASS\": 15.49, \"STELLAR MAGNITUDE\": null, \"DISCOVERY DATE\": 2018}, {\"NAME\": \"KMT-2016-BLG-2364L b\", \"LIGHT-YEARS FROM EARTH\": 21007.0, \"PLANET MASS\": 3.93, \"STELLAR MAGNITUDE\": null, \"DISCOVERY DATE\": 2020}, {\"NAME\": \"KMT-2016-BLG-2397L b\", \"LIGHT-YEARS FROM EARTH\": 15919.0, \"PLANET MASS\": 2.63, \"STELLAR MAGNITUDE\": null, \"DISCOVERY DATE\": 2020}, {\"NAME\": \"KMT-2017-BLG-1038L b\", \"LIGHT-YEARS FROM EARTH\": 19572.0, \"PLANET MASS\": 2.0, \"STELLAR MAGNITUDE\": null, \"DISCOVERY DATE\": 2019}, {\"NAME\": \"KMT-2017-BLG-1146L b\", \"LIGHT-YEARS FROM EARTH\": 21203.0, \"PLANET MASS\": 0.71, \"STELLAR MAGNITUDE\": null, \"DISCOVERY DATE\": 2019}, {\"NAME\": \"KMT-2018-BLG-0029L b\", \"LIGHT-YEARS FROM EARTH\": 11026.0, \"PLANET MASS\": 0.02388174289526015, \"STELLAR MAGNITUDE\": null, \"DISCOVERY DATE\": 2020}, {\"NAME\": \"KMT-2018-BLG-0748L b\", \"LIGHT-YEARS FROM EARTH\": 23813.0, \"PLANET MASS\": 0.19, \"STELLAR MAGNITUDE\": null, \"DISCOVERY DATE\": 2020}, {\"NAME\": \"KMT-2018-BLG-1292L b\", \"LIGHT-YEARS FROM EARTH\": 11287.0, \"PLANET MASS\": 4.42, \"STELLAR MAGNITUDE\": null, \"DISCOVERY DATE\": 2020}, {\"NAME\": \"KMT-2018-BLG-1990L b\", \"LIGHT-YEARS FROM EARTH\": 3154.0, \"PLANET MASS\": 0.348, \"STELLAR MAGNITUDE\": null, \"DISCOVERY DATE\": 2019}, {\"NAME\": \"KMT-2019-BLG-0842L b\", \"LIGHT-YEARS FROM EARTH\": 10830.0, \"PLANET MASS\": 0.032345759810708086, \"STELLAR MAGNITUDE\": null, \"DISCOVERY DATE\": 2020}, {\"NAME\": \"KMT-2019-BLG-1339L b\", \"LIGHT-YEARS FROM EARTH\": 19963.0, \"PLANET MASS\": 1.25, \"STELLAR MAGNITUDE\": null, \"DISCOVERY DATE\": 2020}, {\"NAME\": \"KMT-2019-BLG-1953L b\", \"LIGHT-YEARS FROM EARTH\": 22964.0, \"PLANET MASS\": 0.64, \"STELLAR MAGNITUDE\": null, \"DISCOVERY DATE\": 2020}, {\"NAME\": \"MOA-2007-BLG-192L b\", \"LIGHT-YEARS FROM EARTH\": 3262.0, \"PLANET MASS\": 0.010383366476200065, \"STELLAR MAGNITUDE\": null, \"DISCOVERY DATE\": 2008}, {\"NAME\": \"MOA-2007-BLG-400L b\", \"LIGHT-YEARS FROM EARTH\": 18920.0, \"PLANET MASS\": 0.83, \"STELLAR MAGNITUDE\": null, \"DISCOVERY DATE\": 2008}, {\"NAME\": \"MOA-2008-BLG-379L b\", \"LIGHT-YEARS FROM EARTH\": 10765.0, \"PLANET MASS\": 4.1, \"STELLAR MAGNITUDE\": null, \"DISCOVERY DATE\": 2013}, {\"NAME\": \"MOA-2009-BLG-266L b\", \"LIGHT-YEARS FROM EARTH\": 9916.0, \"PLANET MASS\": 0.032723336773478995, \"STELLAR MAGNITUDE\": null, \"DISCOVERY DATE\": 2011}, {\"NAME\": \"MOA-2009-BLG-319L b\", \"LIGHT-YEARS FROM EARTH\": 22997.0, \"PLANET MASS\": 0.212, \"STELLAR MAGNITUDE\": null, \"DISCOVERY DATE\": 2010}, {\"NAME\": \"MOA-2009-BLG-387L b\", \"LIGHT-YEARS FROM EARTH\": 18561.0, \"PLANET MASS\": 2.6, \"STELLAR MAGNITUDE\": null, \"DISCOVERY DATE\": 2010}, {\"NAME\": \"MOA-2010-BLG-073L b\", \"LIGHT-YEARS FROM EARTH\": 9134.0, \"PLANET MASS\": 11.0, \"STELLAR MAGNITUDE\": null, \"DISCOVERY DATE\": 2012}, {\"NAME\": \"MOA-2010-BLG-353L b\", \"LIGHT-YEARS FROM EARTH\": 20975.0, \"PLANET MASS\": 0.27, \"STELLAR MAGNITUDE\": null, \"DISCOVERY DATE\": 2015}, {\"NAME\": \"MOA-2010-BLG-477L b\", \"LIGHT-YEARS FROM EARTH\": 7503.0, \"PLANET MASS\": 1.5, \"STELLAR MAGNITUDE\": null, \"DISCOVERY DATE\": 2012}, {\"NAME\": \"MOA-2011-BLG-028L b\", \"LIGHT-YEARS FROM EARTH\": 24074.0, \"PLANET MASS\": 0.09439424069272788, \"STELLAR MAGNITUDE\": null, \"DISCOVERY DATE\": 2016}, {\"NAME\": \"MOA-2011-BLG-262L b\", \"LIGHT-YEARS FROM EARTH\": 23486.0, \"PLANET MASS\": 0.05349006972587913, \"STELLAR MAGNITUDE\": null, \"DISCOVERY DATE\": 2014}, {\"NAME\": \"MOA-2011-BLG-291L b\", \"LIGHT-YEARS FROM EARTH\": 14353.0, \"PLANET MASS\": 0.05663654441563672, \"STELLAR MAGNITUDE\": null, \"DISCOVERY DATE\": 2018}, {\"NAME\": \"MOA-2011-BLG-293L b\", \"LIGHT-YEARS FROM EARTH\": 25183.0, \"PLANET MASS\": 4.8, \"STELLAR MAGNITUDE\": null, \"DISCOVERY DATE\": 2012}, {\"NAME\": \"MOA-2011-BLG-322L b\", \"LIGHT-YEARS FROM EARTH\": 24661.0, \"PLANET MASS\": 11.6, \"STELLAR MAGNITUDE\": null, \"DISCOVERY DATE\": 2013}, {\"NAME\": \"MOA-2012-BLG-006L b\", \"LIGHT-YEARS FROM EARTH\": 17289.0, \"PLANET MASS\": 8.4, \"STELLAR MAGNITUDE\": null, \"DISCOVERY DATE\": 2017}, {\"NAME\": \"MOA-2012-BLG-505L b\", \"LIGHT-YEARS FROM EARTH\": 23519.0, \"PLANET MASS\": 0.021081380421375893, \"STELLAR MAGNITUDE\": null, \"DISCOVERY DATE\": 2017}, {\"NAME\": \"MOA-2013-BLG-220L b\", \"LIGHT-YEARS FROM EARTH\": 21921.0, \"PLANET MASS\": 2.74, \"STELLAR MAGNITUDE\": null, \"DISCOVERY DATE\": 2014}, {\"NAME\": \"MOA-2013-BLG-605L b\", \"LIGHT-YEARS FROM EARTH\": 2773.0, \"PLANET MASS\": 0.01019457799481461, \"STELLAR MAGNITUDE\": null, \"DISCOVERY DATE\": 2016}, {\"NAME\": \"MOA-2015-BLG-337L b\", \"LIGHT-YEARS FROM EARTH\": 23160.0, \"PLANET MASS\": 0.10603619704483098, \"STELLAR MAGNITUDE\": null, \"DISCOVERY DATE\": 2018}, {\"NAME\": \"MOA-2016-BLG-227L b\", \"LIGHT-YEARS FROM EARTH\": 21203.0, \"PLANET MASS\": 2.8, \"STELLAR MAGNITUDE\": null, \"DISCOVERY DATE\": 2017}, {\"NAME\": \"MOA-2016-BLG-319L b\", \"LIGHT-YEARS FROM EARTH\": 22182.0, \"PLANET MASS\": 0.62, \"STELLAR MAGNITUDE\": null, \"DISCOVERY DATE\": 2018}, {\"NAME\": \"Mu Leonis b\", \"LIGHT-YEARS FROM EARTH\": 106.0, \"PLANET MASS\": 2.4, \"STELLAR MAGNITUDE\": 3.86648, \"DISCOVERY DATE\": 2014}, {\"NAME\": \"MXB 1658-298 b\", \"LIGHT-YEARS FROM EARTH\": null, \"PLANET MASS\": 23.7, \"STELLAR MAGNITUDE\": null, \"DISCOVERY DATE\": 2017}, {\"NAME\": \"Nu Ophiuchi b\", \"LIGHT-YEARS FROM EARTH\": 151.0, \"PLANET MASS\": 22.206, \"STELLAR MAGNITUDE\": 3.31216, \"DISCOVERY DATE\": 2012}, {\"NAME\": \"Nu Ophiuchi c\", \"LIGHT-YEARS FROM EARTH\": 151.0, \"PLANET MASS\": 24.662, \"STELLAR MAGNITUDE\": 3.31216, \"DISCOVERY DATE\": 2012}, {\"NAME\": \"OGLE-2005-BLG-390L b\", \"LIGHT-YEARS FROM EARTH\": 21529.0, \"PLANET MASS\": 0.017305610793666777, \"STELLAR MAGNITUDE\": null, \"DISCOVERY DATE\": 2005}, {\"NAME\": \"OGLE-2006-BLG-109L b\", \"LIGHT-YEARS FROM EARTH\": 4926.0, \"PLANET MASS\": 0.727, \"STELLAR MAGNITUDE\": null, \"DISCOVERY DATE\": 2008}, {\"NAME\": \"OGLE-2006-BLG-109L c\", \"LIGHT-YEARS FROM EARTH\": 4926.0, \"PLANET MASS\": 0.27, \"STELLAR MAGNITUDE\": null, \"DISCOVERY DATE\": 2008}, {\"NAME\": \"OGLE-2008-BLG-092L b\", \"LIGHT-YEARS FROM EARTH\": 26422.0, \"PLANET MASS\": 0.18, \"STELLAR MAGNITUDE\": null, \"DISCOVERY DATE\": 2014}, {\"NAME\": \"OGLE-2008-BLG-355L b\", \"LIGHT-YEARS FROM EARTH\": 22182.0, \"PLANET MASS\": 4.6, \"STELLAR MAGNITUDE\": null, \"DISCOVERY DATE\": 2014}, {\"NAME\": \"OGLE-2011-BLG-0173L b\", \"LIGHT-YEARS FROM EARTH\": 19898.0, \"PLANET MASS\": 0.19, \"STELLAR MAGNITUDE\": null, \"DISCOVERY DATE\": 2018}, {\"NAME\": \"OGLE-2011-BLG-0251L b\", \"LIGHT-YEARS FROM EARTH\": 8383.0, \"PLANET MASS\": 0.53, \"STELLAR MAGNITUDE\": null, \"DISCOVERY DATE\": 2012}, {\"NAME\": \"OGLE-2011-BLG-0265L b\", \"LIGHT-YEARS FROM EARTH\": 14288.0, \"PLANET MASS\": 0.88, \"STELLAR MAGNITUDE\": null, \"DISCOVERY DATE\": 2015}, {\"NAME\": \"OGLE-2012-BLG-0358L b\", \"LIGHT-YEARS FROM EARTH\": 5741.0, \"PLANET MASS\": 1.85, \"STELLAR MAGNITUDE\": null, \"DISCOVERY DATE\": 2013}, {\"NAME\": \"OGLE-2012-BLG-0406L b\", \"LIGHT-YEARS FROM EARTH\": 16212.0, \"PLANET MASS\": 2.73, \"STELLAR MAGNITUDE\": null, \"DISCOVERY DATE\": 2013}, {\"NAME\": \"OGLE-2012-BLG-0563L b\", \"LIGHT-YEARS FROM EARTH\": 4241.0, \"PLANET MASS\": 0.39, \"STELLAR MAGNITUDE\": null, \"DISCOVERY DATE\": 2015}, {\"NAME\": \"OGLE-2012-BLG-0724L b\", \"LIGHT-YEARS FROM EARTH\": 21855.0, \"PLANET MASS\": 0.47, \"STELLAR MAGNITUDE\": null, \"DISCOVERY DATE\": 2016}, {\"NAME\": \"OGLE-2012-BLG-0838L b\", \"LIGHT-YEARS FROM EARTH\": 20616.0, \"PLANET MASS\": 0.167, \"STELLAR MAGNITUDE\": null, \"DISCOVERY DATE\": 2020}, {\"NAME\": \"OGLE-2012-BLG-0950L b\", \"LIGHT-YEARS FROM EARTH\": 8481.0, \"PLANET MASS\": 0.11012661414151585, \"STELLAR MAGNITUDE\": null, \"DISCOVERY DATE\": 2016}, {\"NAME\": \"OGLE-2013-BLG-0102L b\", \"LIGHT-YEARS FROM EARTH\": 9916.0, \"PLANET MASS\": 13.0, \"STELLAR MAGNITUDE\": null, \"DISCOVERY DATE\": 2014}, {\"NAME\": \"OGLE-2013-BLG-0132L b\", \"LIGHT-YEARS FROM EARTH\": 12722.0, \"PLANET MASS\": 0.29, \"STELLAR MAGNITUDE\": null, \"DISCOVERY DATE\": 2017}, {\"NAME\": \"OGLE-2013-BLG-0341L B b\", \"LIGHT-YEARS FROM EARTH\": 2972.0, \"PLANET MASS\": 0.005223147984997609, \"STELLAR MAGNITUDE\": null, \"DISCOVERY DATE\": 2014}, {\"NAME\": \"OGLE-2013-BLG-1721L b\", \"LIGHT-YEARS FROM EARTH\": 20551.0, \"PLANET MASS\": 0.64, \"STELLAR MAGNITUDE\": null, \"DISCOVERY DATE\": 2017}, {\"NAME\": \"OGLE-2013-BLG-1761L b\", \"LIGHT-YEARS FROM EARTH\": 22508.0, \"PLANET MASS\": 2.7, \"STELLAR MAGNITUDE\": null, \"DISCOVERY DATE\": 2018}, {\"NAME\": \"OGLE-2014-BLG-0124L b\", \"LIGHT-YEARS FROM EARTH\": 13374.0, \"PLANET MASS\": 0.51, \"STELLAR MAGNITUDE\": null, \"DISCOVERY DATE\": 2015}, {\"NAME\": \"OGLE-2014-BLG-0676L b\", \"LIGHT-YEARS FROM EARTH\": 7242.0, \"PLANET MASS\": 3.09, \"STELLAR MAGNITUDE\": null, \"DISCOVERY DATE\": 2016}, {\"NAME\": \"OGLE-2014-BLG-1722L b\", \"LIGHT-YEARS FROM EARTH\": 20877.0, \"PLANET MASS\": 0.174, \"STELLAR MAGNITUDE\": null, \"DISCOVERY DATE\": 2018}, {\"NAME\": \"OGLE-2014-BLG-1722L c\", \"LIGHT-YEARS FROM EARTH\": 20877.0, \"PLANET MASS\": 0.263, \"STELLAR MAGNITUDE\": null, \"DISCOVERY DATE\": 2018}, {\"NAME\": \"OGLE-2015-BLG-0051L b\", \"LIGHT-YEARS FROM EARTH\": 26748.0, \"PLANET MASS\": 0.72, \"STELLAR MAGNITUDE\": null, \"DISCOVERY DATE\": 2016}, {\"NAME\": \"OGLE-2015-BLG-0966L b\", \"LIGHT-YEARS FROM EARTH\": 10765.0, \"PLANET MASS\": 0.06607596848490951, \"STELLAR MAGNITUDE\": null, \"DISCOVERY DATE\": 2016}, {\"NAME\": \"OGLE-2015-BLG-1649L b\", \"LIGHT-YEARS FROM EARTH\": 13798.0, \"PLANET MASS\": 2.54, \"STELLAR MAGNITUDE\": null, \"DISCOVERY DATE\": 2019}, {\"NAME\": \"OGLE-2015-BLG-1670L b\", \"LIGHT-YEARS FROM EARTH\": 21855.0, \"PLANET MASS\": 0.05632189694666096, \"STELLAR MAGNITUDE\": null, \"DISCOVERY DATE\": 2019}, {\"NAME\": \"OGLE-2015-BLG-1771L b\", \"LIGHT-YEARS FROM EARTH\": 23062.0, \"PLANET MASS\": 0.433, \"STELLAR MAGNITUDE\": null, \"DISCOVERY DATE\": 2020}, {\"NAME\": \"OGLE-2016-BLG-0263L b\", \"LIGHT-YEARS FROM EARTH\": 21203.0, \"PLANET MASS\": 4.1, \"STELLAR MAGNITUDE\": null, \"DISCOVERY DATE\": 2017}, {\"NAME\": \"OGLE-2016-BLG-0613L AB b\", \"LIGHT-YEARS FROM EARTH\": 11123.0, \"PLANET MASS\": 4.18, \"STELLAR MAGNITUDE\": null, \"DISCOVERY DATE\": 2017}, {\"NAME\": \"OGLE-2016-BLG-1067L b\", \"LIGHT-YEARS FROM EARTH\": 12167.0, \"PLANET MASS\": 0.43, \"STELLAR MAGNITUDE\": null, \"DISCOVERY DATE\": 2019}, {\"NAME\": \"OGLE-2016-BLG-1190L b\", \"LIGHT-YEARS FROM EARTH\": 22084.0, \"PLANET MASS\": 13.38, \"STELLAR MAGNITUDE\": null, \"DISCOVERY DATE\": 2017}, {\"NAME\": \"OGLE-2016-BLG-1195L b\", \"LIGHT-YEARS FROM EARTH\": 12754.0, \"PLANET MASS\": 0.004499458806353362, \"STELLAR MAGNITUDE\": null, \"DISCOVERY DATE\": 2017}, {\"NAME\": \"OGLE-2016-BLG-1227L b\", \"LIGHT-YEARS FROM EARTH\": null, \"PLANET MASS\": 0.79, \"STELLAR MAGNITUDE\": null, \"DISCOVERY DATE\": 2020}, {\"NAME\": \"OGLE-2017-BLG-0173L b\", \"LIGHT-YEARS FROM EARTH\": 15348.0, \"PLANET MASS\": 0.010285825760817581, \"STELLAR MAGNITUDE\": null, \"DISCOVERY DATE\": 2018}, {\"NAME\": \"OGLE-2017-BLG-0373L b\", \"LIGHT-YEARS FROM EARTH\": 19295.0, \"PLANET MASS\": 0.401, \"STELLAR MAGNITUDE\": null, \"DISCOVERY DATE\": 2018}, {\"NAME\": \"OGLE-2017-BLG-0482L b\", \"LIGHT-YEARS FROM EARTH\": 18920.0, \"PLANET MASS\": 0.02831827220781836, \"STELLAR MAGNITUDE\": null, \"DISCOVERY DATE\": 2018}, {\"NAME\": \"OGLE-2017-BLG-0604L b\", \"LIGHT-YEARS FROM EARTH\": 12885.0, \"PLANET MASS\": 0.51, \"STELLAR MAGNITUDE\": null, \"DISCOVERY DATE\": 2020}, {\"NAME\": \"OGLE-2017-BLG-1049L b\", \"LIGHT-YEARS FROM EARTH\": 18496.0, \"PLANET MASS\": 5.53, \"STELLAR MAGNITUDE\": null, \"DISCOVERY DATE\": 2020}, {\"NAME\": \"OGLE-2017-BLG-1140L b\", \"LIGHT-YEARS FROM EARTH\": null, \"PLANET MASS\": 1.59, \"STELLAR MAGNITUDE\": null, \"DISCOVERY DATE\": 2018}, {\"NAME\": \"OGLE-2017-BLG-1375L b\", \"LIGHT-YEARS FROM EARTH\": 12820.0, \"PLANET MASS\": 11.28, \"STELLAR MAGNITUDE\": null, \"DISCOVERY DATE\": 2020}, {\"NAME\": \"OGLE-2017-BLG-1434L b\", \"LIGHT-YEARS FROM EARTH\": 2805.0, \"PLANET MASS\": 0.01415913610390918, \"STELLAR MAGNITUDE\": null, \"DISCOVERY DATE\": 2018}, {\"NAME\": \"OGLE-2017-BLG-1522L b\", \"LIGHT-YEARS FROM EARTH\": 24432.0, \"PLANET MASS\": 0.75, \"STELLAR MAGNITUDE\": null, \"DISCOVERY DATE\": 2018}, {\"NAME\": \"OGLE-2018-BLG-0596L b\", \"LIGHT-YEARS FROM EARTH\": 18430.0, \"PLANET MASS\": 0.04383039242832331, \"STELLAR MAGNITUDE\": null, \"DISCOVERY DATE\": 2019}, {\"NAME\": \"OGLE-2018-BLG-0677L b\", \"LIGHT-YEARS FROM EARTH\": 24726.0, \"PLANET MASS\": 0.01246003977144008, \"STELLAR MAGNITUDE\": null, \"DISCOVERY DATE\": 2020}, {\"NAME\": \"OGLE-2018-BLG-1011L b\", \"LIGHT-YEARS FROM EARTH\": 23160.0, \"PLANET MASS\": 1.8, \"STELLAR MAGNITUDE\": null, \"DISCOVERY DATE\": 2019}, {\"NAME\": \"OGLE-2018-BLG-1011L c\", \"LIGHT-YEARS FROM EARTH\": 23160.0, \"PLANET MASS\": 2.8, \"STELLAR MAGNITUDE\": null, \"DISCOVERY DATE\": 2019}, {\"NAME\": \"OGLE-2018-BLG-1428L b\", \"LIGHT-YEARS FROM EARTH\": 20290.0, \"PLANET MASS\": 0.77, \"STELLAR MAGNITUDE\": null, \"DISCOVERY DATE\": 2021}, {\"NAME\": \"Omega Serpentis b\", \"LIGHT-YEARS FROM EARTH\": 250.0, \"PLANET MASS\": 1.7, \"STELLAR MAGNITUDE\": 5.21644, \"DISCOVERY DATE\": 2013}, {\"NAME\": \"Omicron Coronae Borealis b\", \"LIGHT-YEARS FROM EARTH\": 277.0, \"PLANET MASS\": 1.5, \"STELLAR MAGNITUDE\": 5.5052, \"DISCOVERY DATE\": 2012}, {\"NAME\": \"Omicron Ursae Majoris b\", \"LIGHT-YEARS FROM EARTH\": 179.0, \"PLANET MASS\": 4.1, \"STELLAR MAGNITUDE\": 3.35214, \"DISCOVERY DATE\": 2012}, {\"NAME\": \"Pi Mensae c\", \"LIGHT-YEARS FROM EARTH\": 60.0, \"PLANET MASS\": 0.015166008004631613, \"STELLAR MAGNITUDE\": 5.65, \"DISCOVERY DATE\": 2018}, {\"NAME\": \"Psi 1 Draconis B b\", \"LIGHT-YEARS FROM EARTH\": 74.0, \"PLANET MASS\": 1.53, \"STELLAR MAGNITUDE\": 5.808, \"DISCOVERY DATE\": 2015}, {\"NAME\": \"PSR B1257+12 b\", \"LIGHT-YEARS FROM EARTH\": 1957.0, \"PLANET MASS\": 6.292949379515192e-05, \"STELLAR MAGNITUDE\": null, \"DISCOVERY DATE\": 1994}, {\"NAME\": \"PSR B1257+12 c\", \"LIGHT-YEARS FROM EARTH\": 1957.0, \"PLANET MASS\": 0.013529841165957662, \"STELLAR MAGNITUDE\": null, \"DISCOVERY DATE\": 1992}, {\"NAME\": \"PSR B1257+12 d\", \"LIGHT-YEARS FROM EARTH\": 1957.0, \"PLANET MASS\": 0.012271251290054623, \"STELLAR MAGNITUDE\": null, \"DISCOVERY DATE\": 1992}, {\"NAME\": \"PSR B1620-26 b\", \"LIGHT-YEARS FROM EARTH\": null, \"PLANET MASS\": 2.5, \"STELLAR MAGNITUDE\": null, \"DISCOVERY DATE\": 2003}, {\"NAME\": \"PSR J1719-1438 b\", \"LIGHT-YEARS FROM EARTH\": 3914.0, \"PLANET MASS\": 1.2, \"STELLAR MAGNITUDE\": null, \"DISCOVERY DATE\": 2011}, {\"NAME\": \"PSR J2322-2650 b\", \"LIGHT-YEARS FROM EARTH\": 750.0, \"PLANET MASS\": 0.7949, \"STELLAR MAGNITUDE\": null, \"DISCOVERY DATE\": 2017}, {\"NAME\": \"Rho Coronae Borealis b\", \"LIGHT-YEARS FROM EARTH\": 57.0, \"PLANET MASS\": 1.0449, \"STELLAR MAGNITUDE\": 5.40816, \"DISCOVERY DATE\": 1997}, {\"NAME\": \"Rho Coronae Borealis c\", \"LIGHT-YEARS FROM EARTH\": 57.0, \"PLANET MASS\": 0.07866186724393989, \"STELLAR MAGNITUDE\": 5.40816, \"DISCOVERY DATE\": 2016}, {\"NAME\": \"Tau Bootis b\", \"LIGHT-YEARS FROM EARTH\": 51.0, \"PLANET MASS\": 5.95, \"STELLAR MAGNITUDE\": 4.48635, \"DISCOVERY DATE\": 1996}, {\"NAME\": \"Tau Ceti e\", \"LIGHT-YEARS FROM EARTH\": 12.0, \"PLANET MASS\": 0.012365645530747352, \"STELLAR MAGNITUDE\": 3.49607, \"DISCOVERY DATE\": 2017}, {\"NAME\": \"Tau Ceti f\", \"LIGHT-YEARS FROM EARTH\": 12.0, \"PLANET MASS\": 0.012365645530747352, \"STELLAR MAGNITUDE\": 3.49607, \"DISCOVERY DATE\": 2017}, {\"NAME\": \"Tau Ceti g\", \"LIGHT-YEARS FROM EARTH\": 12.0, \"PLANET MASS\": 0.005506330707075793, \"STELLAR MAGNITUDE\": 3.49607, \"DISCOVERY DATE\": 2017}, {\"NAME\": \"Tau Ceti h\", \"LIGHT-YEARS FROM EARTH\": 12.0, \"PLANET MASS\": 0.005758048682256401, \"STELLAR MAGNITUDE\": 3.49607, \"DISCOVERY DATE\": 2017}, {\"NAME\": \"Tau Geminorum b\", \"LIGHT-YEARS FROM EARTH\": 367.0, \"PLANET MASS\": 20.6, \"STELLAR MAGNITUDE\": 4.37799, \"DISCOVERY DATE\": 2013}, {\"NAME\": \"UKIRT-2017-BLG-001L b\", \"LIGHT-YEARS FROM EARTH\": 20551.0, \"PLANET MASS\": 1.28, \"STELLAR MAGNITUDE\": null, \"DISCOVERY DATE\": 2018}, {\"NAME\": \"Upsilon Andromedae b\", \"LIGHT-YEARS FROM EARTH\": 44.0, \"PLANET MASS\": 0.6876, \"STELLAR MAGNITUDE\": 4.09565, \"DISCOVERY DATE\": 1996}, {\"NAME\": \"Upsilon Andromedae c\", \"LIGHT-YEARS FROM EARTH\": 44.0, \"PLANET MASS\": 1.981, \"STELLAR MAGNITUDE\": 4.09565, \"DISCOVERY DATE\": 1999}, {\"NAME\": \"Upsilon Andromedae d\", \"LIGHT-YEARS FROM EARTH\": 44.0, \"PLANET MASS\": 4.132, \"STELLAR MAGNITUDE\": 4.09565, \"DISCOVERY DATE\": 1999}, {\"NAME\": \"WISEP J121756.91+162640.2 A b\", \"LIGHT-YEARS FROM EARTH\": 33.0, \"PLANET MASS\": 22.0, \"STELLAR MAGNITUDE\": null, \"DISCOVERY DATE\": 2012}, {\"NAME\": \"Xi Aquilae b\", \"LIGHT-YEARS FROM EARTH\": 183.0, \"PLANET MASS\": 2.8, \"STELLAR MAGNITUDE\": 4.70964, \"DISCOVERY DATE\": 2007}]}}, {\"mode\": \"vega-lite\"});\n",
       "</script>"
      ],
      "text/plain": [
       "alt.Chart(...)"
      ]
     },
     "execution_count": 12,
     "metadata": {},
     "output_type": "execute_result"
    }
   ],
   "source": [
    "alt.Chart(planets).mark_circle().encode(\n",
    "    x = alt.X('PLANET MASS', scale=alt.Scale(type='log')), \n",
    "    y = alt.Y('LIGHT-YEARS FROM EARTH', scale=alt.Scale(type='log')), \n",
    "    tooltip = ['NAME']\n",
    "    ).properties(title='Planet Mass vs Light-Years from Earth')"
   ]
  },
  {
   "cell_type": "markdown",
   "metadata": {},
   "source": [
    "### Clustering \n",
    "\n",
    "#### KMeans\n",
    "\n",
    "For the purposes of our KMeans algorithm, we need to pull our data of interest and log transform it: "
   ]
  },
  {
   "cell_type": "code",
   "execution_count": 35,
   "metadata": {},
   "outputs": [
    {
     "data": {
      "text/html": [
       "<div>\n",
       "<style scoped>\n",
       "    .dataframe tbody tr th:only-of-type {\n",
       "        vertical-align: middle;\n",
       "    }\n",
       "\n",
       "    .dataframe tbody tr th {\n",
       "        vertical-align: top;\n",
       "    }\n",
       "\n",
       "    .dataframe thead th {\n",
       "        text-align: right;\n",
       "    }\n",
       "</style>\n",
       "<table border=\"1\" class=\"dataframe\">\n",
       "  <thead>\n",
       "    <tr style=\"text-align: right;\">\n",
       "      <th></th>\n",
       "      <th>X</th>\n",
       "      <th>Y</th>\n",
       "    </tr>\n",
       "  </thead>\n",
       "  <tbody>\n",
       "    <tr>\n",
       "      <th>56</th>\n",
       "      <td>4.442651</td>\n",
       "      <td>1.667707</td>\n",
       "    </tr>\n",
       "    <tr>\n",
       "      <th>146</th>\n",
       "      <td>10.064160</td>\n",
       "      <td>-2.928259</td>\n",
       "    </tr>\n",
       "    <tr>\n",
       "      <th>150</th>\n",
       "      <td>9.757826</td>\n",
       "      <td>2.128232</td>\n",
       "    </tr>\n",
       "    <tr>\n",
       "      <th>118</th>\n",
       "      <td>4.584967</td>\n",
       "      <td>0.693147</td>\n",
       "    </tr>\n",
       "    <tr>\n",
       "      <th>38</th>\n",
       "      <td>4.867534</td>\n",
       "      <td>2.172476</td>\n",
       "    </tr>\n",
       "    <tr>\n",
       "      <th>218</th>\n",
       "      <td>8.272315</td>\n",
       "      <td>0.182322</td>\n",
       "    </tr>\n",
       "    <tr>\n",
       "      <th>216</th>\n",
       "      <td>7.579168</td>\n",
       "      <td>-4.400496</td>\n",
       "    </tr>\n",
       "    <tr>\n",
       "      <th>72</th>\n",
       "      <td>2.995732</td>\n",
       "      <td>-4.768221</td>\n",
       "    </tr>\n",
       "    <tr>\n",
       "      <th>99</th>\n",
       "      <td>3.526361</td>\n",
       "      <td>0.832909</td>\n",
       "    </tr>\n",
       "    <tr>\n",
       "      <th>140</th>\n",
       "      <td>10.043119</td>\n",
       "      <td>-1.551169</td>\n",
       "    </tr>\n",
       "  </tbody>\n",
       "</table>\n",
       "</div>"
      ],
      "text/plain": [
       "             X         Y\n",
       "56    4.442651  1.667707\n",
       "146  10.064160 -2.928259\n",
       "150   9.757826  2.128232\n",
       "118   4.584967  0.693147\n",
       "38    4.867534  2.172476\n",
       "218   8.272315  0.182322\n",
       "216   7.579168 -4.400496\n",
       "72    2.995732 -4.768221\n",
       "99    3.526361  0.832909\n",
       "140  10.043119 -1.551169"
      ]
     },
     "execution_count": 35,
     "metadata": {},
     "output_type": "execute_result"
    }
   ],
   "source": [
    "# pull columns of interest \n",
    "cluster_df = planets[['LIGHT-YEARS FROM EARTH', 'PLANET MASS']].dropna()\n",
    "\n",
    "# log transform \n",
    "cluster_log = pd.DataFrame() \n",
    "cluster_log['X'] = kmeans_df['LIGHT-YEARS FROM EARTH'].apply(np.log)\n",
    "cluster_log['Y'] = kmeans_df['PLANET MASS'].apply(np.log) \n",
    "\n",
    "# check new df \n",
    "cluster_log.sample(10)"
   ]
  },
  {
   "cell_type": "markdown",
   "metadata": {},
   "source": [
    "Now that our data has been log transformed, we can start clustering! From our initial visualization, we can see three distinct clusters so lets set k = 3. "
   ]
  },
  {
   "cell_type": "code",
   "execution_count": 36,
   "metadata": {},
   "outputs": [],
   "source": [
    "# create kmeans model  \n",
    "km = KMeans(n_clusters=3, random_state=4) \n",
    "\n",
    "# create column and run model \n",
    "cluster_df['kmeans_cluster'] = km.fit_predict(cluster_log)"
   ]
  },
  {
   "cell_type": "code",
   "execution_count": 38,
   "metadata": {},
   "outputs": [
    {
     "data": {
      "text/html": [
       "\n",
       "<div id=\"altair-viz-241038da5b0443359c98b3334e492c18\"></div>\n",
       "<script type=\"text/javascript\">\n",
       "  (function(spec, embedOpt){\n",
       "    let outputDiv = document.currentScript.previousElementSibling;\n",
       "    if (outputDiv.id !== \"altair-viz-241038da5b0443359c98b3334e492c18\") {\n",
       "      outputDiv = document.getElementById(\"altair-viz-241038da5b0443359c98b3334e492c18\");\n",
       "    }\n",
       "    const paths = {\n",
       "      \"vega\": \"https://cdn.jsdelivr.net/npm//vega@5?noext\",\n",
       "      \"vega-lib\": \"https://cdn.jsdelivr.net/npm//vega-lib?noext\",\n",
       "      \"vega-lite\": \"https://cdn.jsdelivr.net/npm//vega-lite@4.8.1?noext\",\n",
       "      \"vega-embed\": \"https://cdn.jsdelivr.net/npm//vega-embed@6?noext\",\n",
       "    };\n",
       "\n",
       "    function loadScript(lib) {\n",
       "      return new Promise(function(resolve, reject) {\n",
       "        var s = document.createElement('script');\n",
       "        s.src = paths[lib];\n",
       "        s.async = true;\n",
       "        s.onload = () => resolve(paths[lib]);\n",
       "        s.onerror = () => reject(`Error loading script: ${paths[lib]}`);\n",
       "        document.getElementsByTagName(\"head\")[0].appendChild(s);\n",
       "      });\n",
       "    }\n",
       "\n",
       "    function showError(err) {\n",
       "      outputDiv.innerHTML = `<div class=\"error\" style=\"color:red;\">${err}</div>`;\n",
       "      throw err;\n",
       "    }\n",
       "\n",
       "    function displayChart(vegaEmbed) {\n",
       "      vegaEmbed(outputDiv, spec, embedOpt)\n",
       "        .catch(err => showError(`Javascript Error: ${err.message}<br>This usually means there's a typo in your chart specification. See the javascript console for the full traceback.`));\n",
       "    }\n",
       "\n",
       "    if(typeof define === \"function\" && define.amd) {\n",
       "      requirejs.config({paths});\n",
       "      require([\"vega-embed\"], displayChart, err => showError(`Error loading script: ${err.message}`));\n",
       "    } else if (typeof vegaEmbed === \"function\") {\n",
       "      displayChart(vegaEmbed);\n",
       "    } else {\n",
       "      loadScript(\"vega\")\n",
       "        .then(() => loadScript(\"vega-lite\"))\n",
       "        .then(() => loadScript(\"vega-embed\"))\n",
       "        .catch(showError)\n",
       "        .then(() => displayChart(vegaEmbed));\n",
       "    }\n",
       "  })({\"config\": {\"view\": {\"continuousWidth\": 400, \"continuousHeight\": 300}}, \"data\": {\"name\": \"data-714071a755fbf95bb079126a2656c051\"}, \"mark\": \"circle\", \"encoding\": {\"color\": {\"type\": \"nominal\", \"field\": \"kmeans_cluster\", \"legend\": {\"title\": \"CLUSTER\"}}, \"x\": {\"type\": \"quantitative\", \"field\": \"PLANET MASS\", \"scale\": {\"type\": \"log\"}}, \"y\": {\"type\": \"quantitative\", \"field\": \"LIGHT-YEARS FROM EARTH\", \"scale\": {\"type\": \"log\"}}}, \"title\": \"Planet Mass vs Light-Years from Earth\", \"$schema\": \"https://vega.github.io/schema/vega-lite/v4.8.1.json\", \"datasets\": {\"data-714071a755fbf95bb079126a2656c051\": [{\"LIGHT-YEARS FROM EARTH\": 304.0, \"PLANET MASS\": 19.4, \"kmeans_cluster\": 1}, {\"LIGHT-YEARS FROM EARTH\": 409.0, \"PLANET MASS\": 14.74, \"kmeans_cluster\": 1}, {\"LIGHT-YEARS FROM EARTH\": 246.0, \"PLANET MASS\": 4.8, \"kmeans_cluster\": 1}, {\"LIGHT-YEARS FROM EARTH\": 249.0, \"PLANET MASS\": 10.3, \"kmeans_cluster\": 1}, {\"LIGHT-YEARS FROM EARTH\": 313.0, \"PLANET MASS\": 0.91, \"kmeans_cluster\": 1}, {\"LIGHT-YEARS FROM EARTH\": 296.0, \"PLANET MASS\": 3.88, \"kmeans_cluster\": 1}, {\"LIGHT-YEARS FROM EARTH\": 45.0, \"PLANET MASS\": 2.53, \"kmeans_cluster\": 1}, {\"LIGHT-YEARS FROM EARTH\": 45.0, \"PLANET MASS\": 0.54, \"kmeans_cluster\": 1}, {\"LIGHT-YEARS FROM EARTH\": 45.0, \"PLANET MASS\": 1.64, \"kmeans_cluster\": 1}, {\"LIGHT-YEARS FROM EARTH\": 240.0, \"PLANET MASS\": 7.1, \"kmeans_cluster\": 1}, {\"LIGHT-YEARS FROM EARTH\": 97.0, \"PLANET MASS\": 2.0, \"kmeans_cluster\": 1}, {\"LIGHT-YEARS FROM EARTH\": 50.0, \"PLANET MASS\": 0.46, \"kmeans_cluster\": 1}, {\"LIGHT-YEARS FROM EARTH\": 41.0, \"PLANET MASS\": 0.8306, \"kmeans_cluster\": 1}, {\"LIGHT-YEARS FROM EARTH\": 41.0, \"PLANET MASS\": 0.1714, \"kmeans_cluster\": 2}, {\"LIGHT-YEARS FROM EARTH\": 41.0, \"PLANET MASS\": 3.878, \"kmeans_cluster\": 1}, {\"LIGHT-YEARS FROM EARTH\": 41.0, \"PLANET MASS\": 0.02514033277116319, \"kmeans_cluster\": 2}, {\"LIGHT-YEARS FROM EARTH\": 41.0, \"PLANET MASS\": 0.141, \"kmeans_cluster\": 2}, {\"LIGHT-YEARS FROM EARTH\": 28.0, \"PLANET MASS\": 0.01604702091776374, \"kmeans_cluster\": 2}, {\"LIGHT-YEARS FROM EARTH\": 28.0, \"PLANET MASS\": 0.05726583935358824, \"kmeans_cluster\": 2}, {\"LIGHT-YEARS FROM EARTH\": 28.0, \"PLANET MASS\": 0.07205427039544894, \"kmeans_cluster\": 2}, {\"LIGHT-YEARS FROM EARTH\": 178.0, \"PLANET MASS\": 2.01, \"kmeans_cluster\": 1}, {\"LIGHT-YEARS FROM EARTH\": 58.0, \"PLANET MASS\": 7.49, \"kmeans_cluster\": 1}, {\"LIGHT-YEARS FROM EARTH\": 271.0, \"PLANET MASS\": 3.0, \"kmeans_cluster\": 1}, {\"LIGHT-YEARS FROM EARTH\": 65.0, \"PLANET MASS\": 1.85, \"kmeans_cluster\": 1}, {\"LIGHT-YEARS FROM EARTH\": 65.0, \"PLANET MASS\": 0.87, \"kmeans_cluster\": 1}, {\"LIGHT-YEARS FROM EARTH\": 330.0, \"PLANET MASS\": 5.3, \"kmeans_cluster\": 1}, {\"LIGHT-YEARS FROM EARTH\": 144.0, \"PLANET MASS\": 3.2, \"kmeans_cluster\": 1}, {\"LIGHT-YEARS FROM EARTH\": 66.0, \"PLANET MASS\": 1.8, \"kmeans_cluster\": 1}, {\"LIGHT-YEARS FROM EARTH\": 67.0, \"PLANET MASS\": 6.47, \"kmeans_cluster\": 1}, {\"LIGHT-YEARS FROM EARTH\": 290.0, \"PLANET MASS\": 7.8, \"kmeans_cluster\": 1}, {\"LIGHT-YEARS FROM EARTH\": 64.0, \"PLANET MASS\": 11.0, \"kmeans_cluster\": 1}, {\"LIGHT-YEARS FROM EARTH\": 64.0, \"PLANET MASS\": 9.0, \"kmeans_cluster\": 1}, {\"LIGHT-YEARS FROM EARTH\": 126.0, \"PLANET MASS\": 6.1, \"kmeans_cluster\": 1}, {\"LIGHT-YEARS FROM EARTH\": 75.0, \"PLANET MASS\": 10.5, \"kmeans_cluster\": 1}, {\"LIGHT-YEARS FROM EARTH\": 228.0, \"PLANET MASS\": 6.7, \"kmeans_cluster\": 1}, {\"LIGHT-YEARS FROM EARTH\": 10.0, \"PLANET MASS\": 0.78, \"kmeans_cluster\": 1}, {\"LIGHT-YEARS FROM EARTH\": 12.0, \"PLANET MASS\": 3.25, \"kmeans_cluster\": 1}, {\"LIGHT-YEARS FROM EARTH\": 155.0, \"PLANET MASS\": 7.6, \"kmeans_cluster\": 1}, {\"LIGHT-YEARS FROM EARTH\": 130.0, \"PLANET MASS\": 8.78, \"kmeans_cluster\": 1}, {\"LIGHT-YEARS FROM EARTH\": 46.0, \"PLANET MASS\": 1.85, \"kmeans_cluster\": 1}, {\"LIGHT-YEARS FROM EARTH\": 155.0, \"PLANET MASS\": 1.02, \"kmeans_cluster\": 1}, {\"LIGHT-YEARS FROM EARTH\": 155.0, \"PLANET MASS\": 4.58, \"kmeans_cluster\": 1}, {\"LIGHT-YEARS FROM EARTH\": 57.0, \"PLANET MASS\": 4.0, \"kmeans_cluster\": 1}, {\"LIGHT-YEARS FROM EARTH\": 30.0, \"PLANET MASS\": 0.050343595036121534, \"kmeans_cluster\": 2}, {\"LIGHT-YEARS FROM EARTH\": 328.0, \"PLANET MASS\": 8.3, \"kmeans_cluster\": 1}, {\"LIGHT-YEARS FROM EARTH\": 57.0, \"PLANET MASS\": 0.94, \"kmeans_cluster\": 1}, {\"LIGHT-YEARS FROM EARTH\": 329.0, \"PLANET MASS\": 11.09, \"kmeans_cluster\": 1}, {\"LIGHT-YEARS FROM EARTH\": 379.0, \"PLANET MASS\": 6.3, \"kmeans_cluster\": 1}, {\"LIGHT-YEARS FROM EARTH\": 66.0, \"PLANET MASS\": 0.357, \"kmeans_cluster\": 1}, {\"LIGHT-YEARS FROM EARTH\": 222.0, \"PLANET MASS\": 6.54, \"kmeans_cluster\": 1}, {\"LIGHT-YEARS FROM EARTH\": 336.0, \"PLANET MASS\": 4.5, \"kmeans_cluster\": 1}, {\"LIGHT-YEARS FROM EARTH\": 48.0, \"PLANET MASS\": 0.014536713066680093, \"kmeans_cluster\": 2}, {\"LIGHT-YEARS FROM EARTH\": 48.0, \"PLANET MASS\": 0.035523699247363254, \"kmeans_cluster\": 2}, {\"LIGHT-YEARS FROM EARTH\": 48.0, \"PLANET MASS\": 0.03303798424245476, \"kmeans_cluster\": 2}, {\"LIGHT-YEARS FROM EARTH\": 366.0, \"PLANET MASS\": 9.76, \"kmeans_cluster\": 1}, {\"LIGHT-YEARS FROM EARTH\": 85.0, \"PLANET MASS\": 1.25, \"kmeans_cluster\": 1}, {\"LIGHT-YEARS FROM EARTH\": 85.0, \"PLANET MASS\": 5.3, \"kmeans_cluster\": 1}, {\"LIGHT-YEARS FROM EARTH\": 42.0, \"PLANET MASS\": 1.21, \"kmeans_cluster\": 1}, {\"LIGHT-YEARS FROM EARTH\": 925.0, \"PLANET MASS\": 14.0, \"kmeans_cluster\": 1}, {\"LIGHT-YEARS FROM EARTH\": 51.0, \"PLANET MASS\": 1.676, \"kmeans_cluster\": 1}, {\"LIGHT-YEARS FROM EARTH\": 51.0, \"PLANET MASS\": 1.814, \"kmeans_cluster\": 1}, {\"LIGHT-YEARS FROM EARTH\": 51.0, \"PLANET MASS\": 0.033210096407984495, \"kmeans_cluster\": 2}, {\"LIGHT-YEARS FROM EARTH\": 51.0, \"PLANET MASS\": 0.5219, \"kmeans_cluster\": 1}, {\"LIGHT-YEARS FROM EARTH\": 83.0, \"PLANET MASS\": 0.06953709064364287, \"kmeans_cluster\": 2}, {\"LIGHT-YEARS FROM EARTH\": 162.0, \"PLANET MASS\": 1.7, \"kmeans_cluster\": 1}, {\"LIGHT-YEARS FROM EARTH\": 123.0, \"PLANET MASS\": 2.88, \"kmeans_cluster\": 1}, {\"LIGHT-YEARS FROM EARTH\": 123.0, \"PLANET MASS\": 4.04, \"kmeans_cluster\": 1}, {\"LIGHT-YEARS FROM EARTH\": 52.0, \"PLANET MASS\": 1.54, \"kmeans_cluster\": 1}, {\"LIGHT-YEARS FROM EARTH\": 52.0, \"PLANET MASS\": 0.06000012585898759, \"kmeans_cluster\": 2}, {\"LIGHT-YEARS FROM EARTH\": 29.0, \"PLANET MASS\": 0.05317542225690337, \"kmeans_cluster\": 2}, {\"LIGHT-YEARS FROM EARTH\": 29.0, \"PLANET MASS\": 0.0755153925541823, \"kmeans_cluster\": 2}, {\"LIGHT-YEARS FROM EARTH\": 73.0, \"PLANET MASS\": 1.37, \"kmeans_cluster\": 1}, {\"LIGHT-YEARS FROM EARTH\": 20.0, \"PLANET MASS\": 0.00849548166234551, \"kmeans_cluster\": 2}, {\"LIGHT-YEARS FROM EARTH\": 20.0, \"PLANET MASS\": 0.0075515392554182294, \"kmeans_cluster\": 2}, {\"LIGHT-YEARS FROM EARTH\": 20.0, \"PLANET MASS\": 0.015103078510836459, \"kmeans_cluster\": 2}, {\"LIGHT-YEARS FROM EARTH\": 20.0, \"PLANET MASS\": 0.015008684270143732, \"kmeans_cluster\": 2}, {\"LIGHT-YEARS FROM EARTH\": 177.0, \"PLANET MASS\": 1.808, \"kmeans_cluster\": 1}, {\"LIGHT-YEARS FROM EARTH\": 21.0, \"PLANET MASS\": 0.014914290029451004, \"kmeans_cluster\": 2}, {\"LIGHT-YEARS FROM EARTH\": 21.0, \"PLANET MASS\": 0.01371862964734312, \"kmeans_cluster\": 2}, {\"LIGHT-YEARS FROM EARTH\": 21.0, \"PLANET MASS\": 0.05087849573338033, \"kmeans_cluster\": 2}, {\"LIGHT-YEARS FROM EARTH\": 21.0, \"PLANET MASS\": 0.02296926523523045, \"kmeans_cluster\": 2}, {\"LIGHT-YEARS FROM EARTH\": 21.0, \"PLANET MASS\": 0.03400149772195233, \"kmeans_cluster\": 2}, {\"LIGHT-YEARS FROM EARTH\": 21.0, \"PLANET MASS\": 0.34, \"kmeans_cluster\": 2}, {\"LIGHT-YEARS FROM EARTH\": 102.0, \"PLANET MASS\": 9.7, \"kmeans_cluster\": 1}, {\"LIGHT-YEARS FROM EARTH\": 16.0, \"PLANET MASS\": 0.026650640622246837, \"kmeans_cluster\": 2}, {\"LIGHT-YEARS FROM EARTH\": 60.0, \"PLANET MASS\": 1.56, \"kmeans_cluster\": 1}, {\"LIGHT-YEARS FROM EARTH\": 359.0, \"PLANET MASS\": 1.37, \"kmeans_cluster\": 1}, {\"LIGHT-YEARS FROM EARTH\": 85.0, \"PLANET MASS\": 1.22, \"kmeans_cluster\": 1}, {\"LIGHT-YEARS FROM EARTH\": 68.0, \"PLANET MASS\": 9.1, \"kmeans_cluster\": 1}, {\"LIGHT-YEARS FROM EARTH\": 36.0, \"PLANET MASS\": 0.228, \"kmeans_cluster\": 2}, {\"LIGHT-YEARS FROM EARTH\": 138.0, \"PLANET MASS\": 0.797, \"kmeans_cluster\": 1}, {\"LIGHT-YEARS FROM EARTH\": 138.0, \"PLANET MASS\": 12.99, \"kmeans_cluster\": 1}, {\"LIGHT-YEARS FROM EARTH\": 60.0, \"PLANET MASS\": 12.9, \"kmeans_cluster\": 1}, {\"LIGHT-YEARS FROM EARTH\": 179.0, \"PLANET MASS\": 2.37, \"kmeans_cluster\": 1}, {\"LIGHT-YEARS FROM EARTH\": 179.0, \"PLANET MASS\": 2.37, \"kmeans_cluster\": 1}, {\"LIGHT-YEARS FROM EARTH\": 400.0, \"PLANET MASS\": 7.32, \"kmeans_cluster\": 1}, {\"LIGHT-YEARS FROM EARTH\": 291.0, \"PLANET MASS\": 6.92, \"kmeans_cluster\": 1}, {\"LIGHT-YEARS FROM EARTH\": 85.0, \"PLANET MASS\": 1.06, \"kmeans_cluster\": 1}, {\"LIGHT-YEARS FROM EARTH\": 85.0, \"PLANET MASS\": 2.51, \"kmeans_cluster\": 1}, {\"LIGHT-YEARS FROM EARTH\": 34.0, \"PLANET MASS\": 2.3, \"kmeans_cluster\": 1}, {\"LIGHT-YEARS FROM EARTH\": 222.0, \"PLANET MASS\": 6.0, \"kmeans_cluster\": 1}, {\"LIGHT-YEARS FROM EARTH\": 41.0, \"PLANET MASS\": 0.03209404183552748, \"kmeans_cluster\": 2}, {\"LIGHT-YEARS FROM EARTH\": 41.0, \"PLANET MASS\": 0.03712840133913963, \"kmeans_cluster\": 2}, {\"LIGHT-YEARS FROM EARTH\": 41.0, \"PLANET MASS\": 0.05695119188461249, \"kmeans_cluster\": 2}, {\"LIGHT-YEARS FROM EARTH\": 280.0, \"PLANET MASS\": 2.7, \"kmeans_cluster\": 1}, {\"LIGHT-YEARS FROM EARTH\": 878.0, \"PLANET MASS\": 27.1, \"kmeans_cluster\": 1}, {\"LIGHT-YEARS FROM EARTH\": 126.0, \"PLANET MASS\": 8.35, \"kmeans_cluster\": 1}, {\"LIGHT-YEARS FROM EARTH\": 257.0, \"PLANET MASS\": 8.2, \"kmeans_cluster\": 1}, {\"LIGHT-YEARS FROM EARTH\": 343.0, \"PLANET MASS\": 1.98, \"kmeans_cluster\": 1}, {\"LIGHT-YEARS FROM EARTH\": 476.0, \"PLANET MASS\": 20.5, \"kmeans_cluster\": 1}, {\"LIGHT-YEARS FROM EARTH\": 59.0, \"PLANET MASS\": 21.9987, \"kmeans_cluster\": 1}, {\"LIGHT-YEARS FROM EARTH\": 56.0, \"PLANET MASS\": 2.27, \"kmeans_cluster\": 1}, {\"LIGHT-YEARS FROM EARTH\": 135.0, \"PLANET MASS\": 7.0, \"kmeans_cluster\": 1}, {\"LIGHT-YEARS FROM EARTH\": 135.0, \"PLANET MASS\": 10.0, \"kmeans_cluster\": 1}, {\"LIGHT-YEARS FROM EARTH\": 135.0, \"PLANET MASS\": 10.0, \"kmeans_cluster\": 1}, {\"LIGHT-YEARS FROM EARTH\": 135.0, \"PLANET MASS\": 10.0, \"kmeans_cluster\": 1}, {\"LIGHT-YEARS FROM EARTH\": 102.0, \"PLANET MASS\": 8.82, \"kmeans_cluster\": 1}, {\"LIGHT-YEARS FROM EARTH\": 163.0, \"PLANET MASS\": 13.616, \"kmeans_cluster\": 1}, {\"LIGHT-YEARS FROM EARTH\": 98.0, \"PLANET MASS\": 2.0, \"kmeans_cluster\": 1}, {\"LIGHT-YEARS FROM EARTH\": 20551.0, \"PLANET MASS\": 18.0, \"kmeans_cluster\": 0}, {\"LIGHT-YEARS FROM EARTH\": 21696.0, \"PLANET MASS\": 3.283, \"kmeans_cluster\": 0}, {\"LIGHT-YEARS FROM EARTH\": 21529.0, \"PLANET MASS\": 7.0, \"kmeans_cluster\": 0}, {\"LIGHT-YEARS FROM EARTH\": 20420.0, \"PLANET MASS\": 4.57, \"kmeans_cluster\": 0}, {\"LIGHT-YEARS FROM EARTH\": 23160.0, \"PLANET MASS\": 2.2, \"kmeans_cluster\": 0}, {\"LIGHT-YEARS FROM EARTH\": 22867.0, \"PLANET MASS\": 15.49, \"kmeans_cluster\": 0}, {\"LIGHT-YEARS FROM EARTH\": 21007.0, \"PLANET MASS\": 3.93, \"kmeans_cluster\": 0}, {\"LIGHT-YEARS FROM EARTH\": 15919.0, \"PLANET MASS\": 2.63, \"kmeans_cluster\": 0}, {\"LIGHT-YEARS FROM EARTH\": 19572.0, \"PLANET MASS\": 2.0, \"kmeans_cluster\": 0}, {\"LIGHT-YEARS FROM EARTH\": 21203.0, \"PLANET MASS\": 0.71, \"kmeans_cluster\": 0}, {\"LIGHT-YEARS FROM EARTH\": 11026.0, \"PLANET MASS\": 0.02388174289526015, \"kmeans_cluster\": 0}, {\"LIGHT-YEARS FROM EARTH\": 23813.0, \"PLANET MASS\": 0.19, \"kmeans_cluster\": 0}, {\"LIGHT-YEARS FROM EARTH\": 11287.0, \"PLANET MASS\": 4.42, \"kmeans_cluster\": 0}, {\"LIGHT-YEARS FROM EARTH\": 3154.0, \"PLANET MASS\": 0.348, \"kmeans_cluster\": 0}, {\"LIGHT-YEARS FROM EARTH\": 10830.0, \"PLANET MASS\": 0.032345759810708086, \"kmeans_cluster\": 0}, {\"LIGHT-YEARS FROM EARTH\": 19963.0, \"PLANET MASS\": 1.25, \"kmeans_cluster\": 0}, {\"LIGHT-YEARS FROM EARTH\": 22964.0, \"PLANET MASS\": 0.64, \"kmeans_cluster\": 0}, {\"LIGHT-YEARS FROM EARTH\": 3262.0, \"PLANET MASS\": 0.010383366476200065, \"kmeans_cluster\": 2}, {\"LIGHT-YEARS FROM EARTH\": 18920.0, \"PLANET MASS\": 0.83, \"kmeans_cluster\": 0}, {\"LIGHT-YEARS FROM EARTH\": 10765.0, \"PLANET MASS\": 4.1, \"kmeans_cluster\": 0}, {\"LIGHT-YEARS FROM EARTH\": 9916.0, \"PLANET MASS\": 0.032723336773478995, \"kmeans_cluster\": 0}, {\"LIGHT-YEARS FROM EARTH\": 22997.0, \"PLANET MASS\": 0.212, \"kmeans_cluster\": 0}, {\"LIGHT-YEARS FROM EARTH\": 18561.0, \"PLANET MASS\": 2.6, \"kmeans_cluster\": 0}, {\"LIGHT-YEARS FROM EARTH\": 9134.0, \"PLANET MASS\": 11.0, \"kmeans_cluster\": 0}, {\"LIGHT-YEARS FROM EARTH\": 20975.0, \"PLANET MASS\": 0.27, \"kmeans_cluster\": 0}, {\"LIGHT-YEARS FROM EARTH\": 7503.0, \"PLANET MASS\": 1.5, \"kmeans_cluster\": 0}, {\"LIGHT-YEARS FROM EARTH\": 24074.0, \"PLANET MASS\": 0.09439424069272788, \"kmeans_cluster\": 0}, {\"LIGHT-YEARS FROM EARTH\": 23486.0, \"PLANET MASS\": 0.05349006972587913, \"kmeans_cluster\": 0}, {\"LIGHT-YEARS FROM EARTH\": 14353.0, \"PLANET MASS\": 0.05663654441563672, \"kmeans_cluster\": 0}, {\"LIGHT-YEARS FROM EARTH\": 25183.0, \"PLANET MASS\": 4.8, \"kmeans_cluster\": 0}, {\"LIGHT-YEARS FROM EARTH\": 24661.0, \"PLANET MASS\": 11.6, \"kmeans_cluster\": 0}, {\"LIGHT-YEARS FROM EARTH\": 17289.0, \"PLANET MASS\": 8.4, \"kmeans_cluster\": 0}, {\"LIGHT-YEARS FROM EARTH\": 23519.0, \"PLANET MASS\": 0.021081380421375893, \"kmeans_cluster\": 0}, {\"LIGHT-YEARS FROM EARTH\": 21921.0, \"PLANET MASS\": 2.74, \"kmeans_cluster\": 0}, {\"LIGHT-YEARS FROM EARTH\": 2773.0, \"PLANET MASS\": 0.01019457799481461, \"kmeans_cluster\": 2}, {\"LIGHT-YEARS FROM EARTH\": 23160.0, \"PLANET MASS\": 0.10603619704483098, \"kmeans_cluster\": 0}, {\"LIGHT-YEARS FROM EARTH\": 21203.0, \"PLANET MASS\": 2.8, \"kmeans_cluster\": 0}, {\"LIGHT-YEARS FROM EARTH\": 22182.0, \"PLANET MASS\": 0.62, \"kmeans_cluster\": 0}, {\"LIGHT-YEARS FROM EARTH\": 106.0, \"PLANET MASS\": 2.4, \"kmeans_cluster\": 1}, {\"LIGHT-YEARS FROM EARTH\": 151.0, \"PLANET MASS\": 22.206, \"kmeans_cluster\": 1}, {\"LIGHT-YEARS FROM EARTH\": 151.0, \"PLANET MASS\": 24.662, \"kmeans_cluster\": 1}, {\"LIGHT-YEARS FROM EARTH\": 21529.0, \"PLANET MASS\": 0.017305610793666777, \"kmeans_cluster\": 0}, {\"LIGHT-YEARS FROM EARTH\": 4926.0, \"PLANET MASS\": 0.727, \"kmeans_cluster\": 0}, {\"LIGHT-YEARS FROM EARTH\": 4926.0, \"PLANET MASS\": 0.27, \"kmeans_cluster\": 0}, {\"LIGHT-YEARS FROM EARTH\": 26422.0, \"PLANET MASS\": 0.18, \"kmeans_cluster\": 0}, {\"LIGHT-YEARS FROM EARTH\": 22182.0, \"PLANET MASS\": 4.6, \"kmeans_cluster\": 0}, {\"LIGHT-YEARS FROM EARTH\": 19898.0, \"PLANET MASS\": 0.19, \"kmeans_cluster\": 0}, {\"LIGHT-YEARS FROM EARTH\": 8383.0, \"PLANET MASS\": 0.53, \"kmeans_cluster\": 0}, {\"LIGHT-YEARS FROM EARTH\": 14288.0, \"PLANET MASS\": 0.88, \"kmeans_cluster\": 0}, {\"LIGHT-YEARS FROM EARTH\": 5741.0, \"PLANET MASS\": 1.85, \"kmeans_cluster\": 0}, {\"LIGHT-YEARS FROM EARTH\": 16212.0, \"PLANET MASS\": 2.73, \"kmeans_cluster\": 0}, {\"LIGHT-YEARS FROM EARTH\": 4241.0, \"PLANET MASS\": 0.39, \"kmeans_cluster\": 0}, {\"LIGHT-YEARS FROM EARTH\": 21855.0, \"PLANET MASS\": 0.47, \"kmeans_cluster\": 0}, {\"LIGHT-YEARS FROM EARTH\": 20616.0, \"PLANET MASS\": 0.167, \"kmeans_cluster\": 0}, {\"LIGHT-YEARS FROM EARTH\": 8481.0, \"PLANET MASS\": 0.11012661414151585, \"kmeans_cluster\": 0}, {\"LIGHT-YEARS FROM EARTH\": 9916.0, \"PLANET MASS\": 13.0, \"kmeans_cluster\": 0}, {\"LIGHT-YEARS FROM EARTH\": 12722.0, \"PLANET MASS\": 0.29, \"kmeans_cluster\": 0}, {\"LIGHT-YEARS FROM EARTH\": 2972.0, \"PLANET MASS\": 0.005223147984997609, \"kmeans_cluster\": 2}, {\"LIGHT-YEARS FROM EARTH\": 20551.0, \"PLANET MASS\": 0.64, \"kmeans_cluster\": 0}, {\"LIGHT-YEARS FROM EARTH\": 22508.0, \"PLANET MASS\": 2.7, \"kmeans_cluster\": 0}, {\"LIGHT-YEARS FROM EARTH\": 13374.0, \"PLANET MASS\": 0.51, \"kmeans_cluster\": 0}, {\"LIGHT-YEARS FROM EARTH\": 7242.0, \"PLANET MASS\": 3.09, \"kmeans_cluster\": 0}, {\"LIGHT-YEARS FROM EARTH\": 20877.0, \"PLANET MASS\": 0.174, \"kmeans_cluster\": 0}, {\"LIGHT-YEARS FROM EARTH\": 20877.0, \"PLANET MASS\": 0.263, \"kmeans_cluster\": 0}, {\"LIGHT-YEARS FROM EARTH\": 26748.0, \"PLANET MASS\": 0.72, \"kmeans_cluster\": 0}, {\"LIGHT-YEARS FROM EARTH\": 10765.0, \"PLANET MASS\": 0.06607596848490951, \"kmeans_cluster\": 0}, {\"LIGHT-YEARS FROM EARTH\": 13798.0, \"PLANET MASS\": 2.54, \"kmeans_cluster\": 0}, {\"LIGHT-YEARS FROM EARTH\": 21855.0, \"PLANET MASS\": 0.05632189694666096, \"kmeans_cluster\": 0}, {\"LIGHT-YEARS FROM EARTH\": 23062.0, \"PLANET MASS\": 0.433, \"kmeans_cluster\": 0}, {\"LIGHT-YEARS FROM EARTH\": 21203.0, \"PLANET MASS\": 4.1, \"kmeans_cluster\": 0}, {\"LIGHT-YEARS FROM EARTH\": 11123.0, \"PLANET MASS\": 4.18, \"kmeans_cluster\": 0}, {\"LIGHT-YEARS FROM EARTH\": 12167.0, \"PLANET MASS\": 0.43, \"kmeans_cluster\": 0}, {\"LIGHT-YEARS FROM EARTH\": 22084.0, \"PLANET MASS\": 13.38, \"kmeans_cluster\": 0}, {\"LIGHT-YEARS FROM EARTH\": 12754.0, \"PLANET MASS\": 0.004499458806353362, \"kmeans_cluster\": 0}, {\"LIGHT-YEARS FROM EARTH\": 15348.0, \"PLANET MASS\": 0.010285825760817581, \"kmeans_cluster\": 0}, {\"LIGHT-YEARS FROM EARTH\": 19295.0, \"PLANET MASS\": 0.401, \"kmeans_cluster\": 0}, {\"LIGHT-YEARS FROM EARTH\": 18920.0, \"PLANET MASS\": 0.02831827220781836, \"kmeans_cluster\": 0}, {\"LIGHT-YEARS FROM EARTH\": 12885.0, \"PLANET MASS\": 0.51, \"kmeans_cluster\": 0}, {\"LIGHT-YEARS FROM EARTH\": 18496.0, \"PLANET MASS\": 5.53, \"kmeans_cluster\": 0}, {\"LIGHT-YEARS FROM EARTH\": 12820.0, \"PLANET MASS\": 11.28, \"kmeans_cluster\": 0}, {\"LIGHT-YEARS FROM EARTH\": 2805.0, \"PLANET MASS\": 0.01415913610390918, \"kmeans_cluster\": 2}, {\"LIGHT-YEARS FROM EARTH\": 24432.0, \"PLANET MASS\": 0.75, \"kmeans_cluster\": 0}, {\"LIGHT-YEARS FROM EARTH\": 18430.0, \"PLANET MASS\": 0.04383039242832331, \"kmeans_cluster\": 0}, {\"LIGHT-YEARS FROM EARTH\": 24726.0, \"PLANET MASS\": 0.01246003977144008, \"kmeans_cluster\": 0}, {\"LIGHT-YEARS FROM EARTH\": 23160.0, \"PLANET MASS\": 1.8, \"kmeans_cluster\": 0}, {\"LIGHT-YEARS FROM EARTH\": 23160.0, \"PLANET MASS\": 2.8, \"kmeans_cluster\": 0}, {\"LIGHT-YEARS FROM EARTH\": 20290.0, \"PLANET MASS\": 0.77, \"kmeans_cluster\": 0}, {\"LIGHT-YEARS FROM EARTH\": 250.0, \"PLANET MASS\": 1.7, \"kmeans_cluster\": 1}, {\"LIGHT-YEARS FROM EARTH\": 277.0, \"PLANET MASS\": 1.5, \"kmeans_cluster\": 1}, {\"LIGHT-YEARS FROM EARTH\": 179.0, \"PLANET MASS\": 4.1, \"kmeans_cluster\": 1}, {\"LIGHT-YEARS FROM EARTH\": 60.0, \"PLANET MASS\": 0.015166008004631613, \"kmeans_cluster\": 2}, {\"LIGHT-YEARS FROM EARTH\": 74.0, \"PLANET MASS\": 1.53, \"kmeans_cluster\": 1}, {\"LIGHT-YEARS FROM EARTH\": 1957.0, \"PLANET MASS\": 6.292949379515192e-05, \"kmeans_cluster\": 2}, {\"LIGHT-YEARS FROM EARTH\": 1957.0, \"PLANET MASS\": 0.013529841165957662, \"kmeans_cluster\": 2}, {\"LIGHT-YEARS FROM EARTH\": 1957.0, \"PLANET MASS\": 0.012271251290054623, \"kmeans_cluster\": 2}, {\"LIGHT-YEARS FROM EARTH\": 3914.0, \"PLANET MASS\": 1.2, \"kmeans_cluster\": 0}, {\"LIGHT-YEARS FROM EARTH\": 750.0, \"PLANET MASS\": 0.7949, \"kmeans_cluster\": 1}, {\"LIGHT-YEARS FROM EARTH\": 57.0, \"PLANET MASS\": 1.0449, \"kmeans_cluster\": 1}, {\"LIGHT-YEARS FROM EARTH\": 57.0, \"PLANET MASS\": 0.07866186724393989, \"kmeans_cluster\": 2}, {\"LIGHT-YEARS FROM EARTH\": 51.0, \"PLANET MASS\": 5.95, \"kmeans_cluster\": 1}, {\"LIGHT-YEARS FROM EARTH\": 12.0, \"PLANET MASS\": 0.012365645530747352, \"kmeans_cluster\": 2}, {\"LIGHT-YEARS FROM EARTH\": 12.0, \"PLANET MASS\": 0.012365645530747352, \"kmeans_cluster\": 2}, {\"LIGHT-YEARS FROM EARTH\": 12.0, \"PLANET MASS\": 0.005506330707075793, \"kmeans_cluster\": 2}, {\"LIGHT-YEARS FROM EARTH\": 12.0, \"PLANET MASS\": 0.005758048682256401, \"kmeans_cluster\": 2}, {\"LIGHT-YEARS FROM EARTH\": 367.0, \"PLANET MASS\": 20.6, \"kmeans_cluster\": 1}, {\"LIGHT-YEARS FROM EARTH\": 20551.0, \"PLANET MASS\": 1.28, \"kmeans_cluster\": 0}, {\"LIGHT-YEARS FROM EARTH\": 44.0, \"PLANET MASS\": 0.6876, \"kmeans_cluster\": 1}, {\"LIGHT-YEARS FROM EARTH\": 44.0, \"PLANET MASS\": 1.981, \"kmeans_cluster\": 1}, {\"LIGHT-YEARS FROM EARTH\": 44.0, \"PLANET MASS\": 4.132, \"kmeans_cluster\": 1}, {\"LIGHT-YEARS FROM EARTH\": 33.0, \"PLANET MASS\": 22.0, \"kmeans_cluster\": 1}, {\"LIGHT-YEARS FROM EARTH\": 183.0, \"PLANET MASS\": 2.8, \"kmeans_cluster\": 1}]}}, {\"mode\": \"vega-lite\"});\n",
       "</script>"
      ],
      "text/plain": [
       "alt.Chart(...)"
      ]
     },
     "execution_count": 38,
     "metadata": {},
     "output_type": "execute_result"
    }
   ],
   "source": [
    "alt.Chart(cluster_df).mark_circle().encode(\n",
    "    x = alt.X('PLANET MASS', scale=alt.Scale(type='log')), \n",
    "    y = alt.Y('LIGHT-YEARS FROM EARTH', scale=alt.Scale(type='log')), \n",
    "    color = alt.Color('kmeans_cluster:N', legend=alt.Legend(title='CLUSTER'))\n",
    ").properties(title='Planet Mass vs Light-Years from Earth')"
   ]
  },
  {
   "cell_type": "markdown",
   "metadata": {},
   "source": [
    "Our KMeans model classified our data into three different groups, but now let's see how DBSCAN clustering does:"
   ]
  },
  {
   "cell_type": "code",
   "execution_count": 39,
   "metadata": {},
   "outputs": [],
   "source": [
    "# create dbscan model \n",
    "dbscan = DBSCAN(eps=1.0, min_samples=15)\n",
    "\n",
    "# create column and run model \n",
    "cluster_df['dbscan_cluster'] = dbscan.fit_predict(cluster_log) "
   ]
  },
  {
   "cell_type": "code",
   "execution_count": 44,
   "metadata": {},
   "outputs": [
    {
     "data": {
      "text/html": [
       "\n",
       "<div id=\"altair-viz-08d8e6cc9f2447c18176a08aea0ecbba\"></div>\n",
       "<script type=\"text/javascript\">\n",
       "  (function(spec, embedOpt){\n",
       "    let outputDiv = document.currentScript.previousElementSibling;\n",
       "    if (outputDiv.id !== \"altair-viz-08d8e6cc9f2447c18176a08aea0ecbba\") {\n",
       "      outputDiv = document.getElementById(\"altair-viz-08d8e6cc9f2447c18176a08aea0ecbba\");\n",
       "    }\n",
       "    const paths = {\n",
       "      \"vega\": \"https://cdn.jsdelivr.net/npm//vega@5?noext\",\n",
       "      \"vega-lib\": \"https://cdn.jsdelivr.net/npm//vega-lib?noext\",\n",
       "      \"vega-lite\": \"https://cdn.jsdelivr.net/npm//vega-lite@4.8.1?noext\",\n",
       "      \"vega-embed\": \"https://cdn.jsdelivr.net/npm//vega-embed@6?noext\",\n",
       "    };\n",
       "\n",
       "    function loadScript(lib) {\n",
       "      return new Promise(function(resolve, reject) {\n",
       "        var s = document.createElement('script');\n",
       "        s.src = paths[lib];\n",
       "        s.async = true;\n",
       "        s.onload = () => resolve(paths[lib]);\n",
       "        s.onerror = () => reject(`Error loading script: ${paths[lib]}`);\n",
       "        document.getElementsByTagName(\"head\")[0].appendChild(s);\n",
       "      });\n",
       "    }\n",
       "\n",
       "    function showError(err) {\n",
       "      outputDiv.innerHTML = `<div class=\"error\" style=\"color:red;\">${err}</div>`;\n",
       "      throw err;\n",
       "    }\n",
       "\n",
       "    function displayChart(vegaEmbed) {\n",
       "      vegaEmbed(outputDiv, spec, embedOpt)\n",
       "        .catch(err => showError(`Javascript Error: ${err.message}<br>This usually means there's a typo in your chart specification. See the javascript console for the full traceback.`));\n",
       "    }\n",
       "\n",
       "    if(typeof define === \"function\" && define.amd) {\n",
       "      requirejs.config({paths});\n",
       "      require([\"vega-embed\"], displayChart, err => showError(`Error loading script: ${err.message}`));\n",
       "    } else if (typeof vegaEmbed === \"function\") {\n",
       "      displayChart(vegaEmbed);\n",
       "    } else {\n",
       "      loadScript(\"vega\")\n",
       "        .then(() => loadScript(\"vega-lite\"))\n",
       "        .then(() => loadScript(\"vega-embed\"))\n",
       "        .catch(showError)\n",
       "        .then(() => displayChart(vegaEmbed));\n",
       "    }\n",
       "  })({\"config\": {\"view\": {\"continuousWidth\": 400, \"continuousHeight\": 300}}, \"data\": {\"name\": \"data-c05bed04909cd6a640cbe76f386bb66a\"}, \"mark\": \"circle\", \"encoding\": {\"color\": {\"type\": \"nominal\", \"field\": \"dbscan_cluster\", \"legend\": {\"title\": \"CLUSTER\"}}, \"x\": {\"type\": \"quantitative\", \"field\": \"PLANET MASS\", \"scale\": {\"type\": \"log\"}}, \"y\": {\"type\": \"quantitative\", \"field\": \"LIGHT-YEARS FROM EARTH\", \"scale\": {\"type\": \"log\"}}}, \"title\": \"Planet Mass vs Light-Years from Earth\", \"$schema\": \"https://vega.github.io/schema/vega-lite/v4.8.1.json\", \"datasets\": {\"data-c05bed04909cd6a640cbe76f386bb66a\": [{\"LIGHT-YEARS FROM EARTH\": 304.0, \"PLANET MASS\": 19.4, \"kmeans_cluster\": 1, \"dbscan_cluster\": 0}, {\"LIGHT-YEARS FROM EARTH\": 409.0, \"PLANET MASS\": 14.74, \"kmeans_cluster\": 1, \"dbscan_cluster\": 0}, {\"LIGHT-YEARS FROM EARTH\": 246.0, \"PLANET MASS\": 4.8, \"kmeans_cluster\": 1, \"dbscan_cluster\": 0}, {\"LIGHT-YEARS FROM EARTH\": 249.0, \"PLANET MASS\": 10.3, \"kmeans_cluster\": 1, \"dbscan_cluster\": 0}, {\"LIGHT-YEARS FROM EARTH\": 313.0, \"PLANET MASS\": 0.91, \"kmeans_cluster\": 1, \"dbscan_cluster\": 0}, {\"LIGHT-YEARS FROM EARTH\": 296.0, \"PLANET MASS\": 3.88, \"kmeans_cluster\": 1, \"dbscan_cluster\": 0}, {\"LIGHT-YEARS FROM EARTH\": 45.0, \"PLANET MASS\": 2.53, \"kmeans_cluster\": 1, \"dbscan_cluster\": 0}, {\"LIGHT-YEARS FROM EARTH\": 45.0, \"PLANET MASS\": 0.54, \"kmeans_cluster\": 1, \"dbscan_cluster\": 0}, {\"LIGHT-YEARS FROM EARTH\": 45.0, \"PLANET MASS\": 1.64, \"kmeans_cluster\": 1, \"dbscan_cluster\": 0}, {\"LIGHT-YEARS FROM EARTH\": 240.0, \"PLANET MASS\": 7.1, \"kmeans_cluster\": 1, \"dbscan_cluster\": 0}, {\"LIGHT-YEARS FROM EARTH\": 97.0, \"PLANET MASS\": 2.0, \"kmeans_cluster\": 1, \"dbscan_cluster\": 0}, {\"LIGHT-YEARS FROM EARTH\": 50.0, \"PLANET MASS\": 0.46, \"kmeans_cluster\": 1, \"dbscan_cluster\": 0}, {\"LIGHT-YEARS FROM EARTH\": 41.0, \"PLANET MASS\": 0.8306, \"kmeans_cluster\": 1, \"dbscan_cluster\": 0}, {\"LIGHT-YEARS FROM EARTH\": 41.0, \"PLANET MASS\": 0.1714, \"kmeans_cluster\": 2, \"dbscan_cluster\": 1}, {\"LIGHT-YEARS FROM EARTH\": 41.0, \"PLANET MASS\": 3.878, \"kmeans_cluster\": 1, \"dbscan_cluster\": 0}, {\"LIGHT-YEARS FROM EARTH\": 41.0, \"PLANET MASS\": 0.02514033277116319, \"kmeans_cluster\": 2, \"dbscan_cluster\": 1}, {\"LIGHT-YEARS FROM EARTH\": 41.0, \"PLANET MASS\": 0.141, \"kmeans_cluster\": 2, \"dbscan_cluster\": 1}, {\"LIGHT-YEARS FROM EARTH\": 28.0, \"PLANET MASS\": 0.01604702091776374, \"kmeans_cluster\": 2, \"dbscan_cluster\": 1}, {\"LIGHT-YEARS FROM EARTH\": 28.0, \"PLANET MASS\": 0.05726583935358824, \"kmeans_cluster\": 2, \"dbscan_cluster\": 1}, {\"LIGHT-YEARS FROM EARTH\": 28.0, \"PLANET MASS\": 0.07205427039544894, \"kmeans_cluster\": 2, \"dbscan_cluster\": 1}, {\"LIGHT-YEARS FROM EARTH\": 178.0, \"PLANET MASS\": 2.01, \"kmeans_cluster\": 1, \"dbscan_cluster\": 0}, {\"LIGHT-YEARS FROM EARTH\": 58.0, \"PLANET MASS\": 7.49, \"kmeans_cluster\": 1, \"dbscan_cluster\": 0}, {\"LIGHT-YEARS FROM EARTH\": 271.0, \"PLANET MASS\": 3.0, \"kmeans_cluster\": 1, \"dbscan_cluster\": 0}, {\"LIGHT-YEARS FROM EARTH\": 65.0, \"PLANET MASS\": 1.85, \"kmeans_cluster\": 1, \"dbscan_cluster\": 0}, {\"LIGHT-YEARS FROM EARTH\": 65.0, \"PLANET MASS\": 0.87, \"kmeans_cluster\": 1, \"dbscan_cluster\": 0}, {\"LIGHT-YEARS FROM EARTH\": 330.0, \"PLANET MASS\": 5.3, \"kmeans_cluster\": 1, \"dbscan_cluster\": 0}, {\"LIGHT-YEARS FROM EARTH\": 144.0, \"PLANET MASS\": 3.2, \"kmeans_cluster\": 1, \"dbscan_cluster\": 0}, {\"LIGHT-YEARS FROM EARTH\": 66.0, \"PLANET MASS\": 1.8, \"kmeans_cluster\": 1, \"dbscan_cluster\": 0}, {\"LIGHT-YEARS FROM EARTH\": 67.0, \"PLANET MASS\": 6.47, \"kmeans_cluster\": 1, \"dbscan_cluster\": 0}, {\"LIGHT-YEARS FROM EARTH\": 290.0, \"PLANET MASS\": 7.8, \"kmeans_cluster\": 1, \"dbscan_cluster\": 0}, {\"LIGHT-YEARS FROM EARTH\": 64.0, \"PLANET MASS\": 11.0, \"kmeans_cluster\": 1, \"dbscan_cluster\": 0}, {\"LIGHT-YEARS FROM EARTH\": 64.0, \"PLANET MASS\": 9.0, \"kmeans_cluster\": 1, \"dbscan_cluster\": 0}, {\"LIGHT-YEARS FROM EARTH\": 126.0, \"PLANET MASS\": 6.1, \"kmeans_cluster\": 1, \"dbscan_cluster\": 0}, {\"LIGHT-YEARS FROM EARTH\": 75.0, \"PLANET MASS\": 10.5, \"kmeans_cluster\": 1, \"dbscan_cluster\": 0}, {\"LIGHT-YEARS FROM EARTH\": 228.0, \"PLANET MASS\": 6.7, \"kmeans_cluster\": 1, \"dbscan_cluster\": 0}, {\"LIGHT-YEARS FROM EARTH\": 10.0, \"PLANET MASS\": 0.78, \"kmeans_cluster\": 1, \"dbscan_cluster\": -1}, {\"LIGHT-YEARS FROM EARTH\": 12.0, \"PLANET MASS\": 3.25, \"kmeans_cluster\": 1, \"dbscan_cluster\": -1}, {\"LIGHT-YEARS FROM EARTH\": 155.0, \"PLANET MASS\": 7.6, \"kmeans_cluster\": 1, \"dbscan_cluster\": 0}, {\"LIGHT-YEARS FROM EARTH\": 130.0, \"PLANET MASS\": 8.78, \"kmeans_cluster\": 1, \"dbscan_cluster\": 0}, {\"LIGHT-YEARS FROM EARTH\": 46.0, \"PLANET MASS\": 1.85, \"kmeans_cluster\": 1, \"dbscan_cluster\": 0}, {\"LIGHT-YEARS FROM EARTH\": 155.0, \"PLANET MASS\": 1.02, \"kmeans_cluster\": 1, \"dbscan_cluster\": 0}, {\"LIGHT-YEARS FROM EARTH\": 155.0, \"PLANET MASS\": 4.58, \"kmeans_cluster\": 1, \"dbscan_cluster\": 0}, {\"LIGHT-YEARS FROM EARTH\": 57.0, \"PLANET MASS\": 4.0, \"kmeans_cluster\": 1, \"dbscan_cluster\": 0}, {\"LIGHT-YEARS FROM EARTH\": 30.0, \"PLANET MASS\": 0.050343595036121534, \"kmeans_cluster\": 2, \"dbscan_cluster\": 1}, {\"LIGHT-YEARS FROM EARTH\": 328.0, \"PLANET MASS\": 8.3, \"kmeans_cluster\": 1, \"dbscan_cluster\": 0}, {\"LIGHT-YEARS FROM EARTH\": 57.0, \"PLANET MASS\": 0.94, \"kmeans_cluster\": 1, \"dbscan_cluster\": 0}, {\"LIGHT-YEARS FROM EARTH\": 329.0, \"PLANET MASS\": 11.09, \"kmeans_cluster\": 1, \"dbscan_cluster\": 0}, {\"LIGHT-YEARS FROM EARTH\": 379.0, \"PLANET MASS\": 6.3, \"kmeans_cluster\": 1, \"dbscan_cluster\": 0}, {\"LIGHT-YEARS FROM EARTH\": 66.0, \"PLANET MASS\": 0.357, \"kmeans_cluster\": 1, \"dbscan_cluster\": 0}, {\"LIGHT-YEARS FROM EARTH\": 222.0, \"PLANET MASS\": 6.54, \"kmeans_cluster\": 1, \"dbscan_cluster\": 0}, {\"LIGHT-YEARS FROM EARTH\": 336.0, \"PLANET MASS\": 4.5, \"kmeans_cluster\": 1, \"dbscan_cluster\": 0}, {\"LIGHT-YEARS FROM EARTH\": 48.0, \"PLANET MASS\": 0.014536713066680093, \"kmeans_cluster\": 2, \"dbscan_cluster\": 1}, {\"LIGHT-YEARS FROM EARTH\": 48.0, \"PLANET MASS\": 0.035523699247363254, \"kmeans_cluster\": 2, \"dbscan_cluster\": 1}, {\"LIGHT-YEARS FROM EARTH\": 48.0, \"PLANET MASS\": 0.03303798424245476, \"kmeans_cluster\": 2, \"dbscan_cluster\": 1}, {\"LIGHT-YEARS FROM EARTH\": 366.0, \"PLANET MASS\": 9.76, \"kmeans_cluster\": 1, \"dbscan_cluster\": 0}, {\"LIGHT-YEARS FROM EARTH\": 85.0, \"PLANET MASS\": 1.25, \"kmeans_cluster\": 1, \"dbscan_cluster\": 0}, {\"LIGHT-YEARS FROM EARTH\": 85.0, \"PLANET MASS\": 5.3, \"kmeans_cluster\": 1, \"dbscan_cluster\": 0}, {\"LIGHT-YEARS FROM EARTH\": 42.0, \"PLANET MASS\": 1.21, \"kmeans_cluster\": 1, \"dbscan_cluster\": 0}, {\"LIGHT-YEARS FROM EARTH\": 925.0, \"PLANET MASS\": 14.0, \"kmeans_cluster\": 1, \"dbscan_cluster\": 0}, {\"LIGHT-YEARS FROM EARTH\": 51.0, \"PLANET MASS\": 1.676, \"kmeans_cluster\": 1, \"dbscan_cluster\": 0}, {\"LIGHT-YEARS FROM EARTH\": 51.0, \"PLANET MASS\": 1.814, \"kmeans_cluster\": 1, \"dbscan_cluster\": 0}, {\"LIGHT-YEARS FROM EARTH\": 51.0, \"PLANET MASS\": 0.033210096407984495, \"kmeans_cluster\": 2, \"dbscan_cluster\": 1}, {\"LIGHT-YEARS FROM EARTH\": 51.0, \"PLANET MASS\": 0.5219, \"kmeans_cluster\": 1, \"dbscan_cluster\": 0}, {\"LIGHT-YEARS FROM EARTH\": 83.0, \"PLANET MASS\": 0.06953709064364287, \"kmeans_cluster\": 2, \"dbscan_cluster\": 1}, {\"LIGHT-YEARS FROM EARTH\": 162.0, \"PLANET MASS\": 1.7, \"kmeans_cluster\": 1, \"dbscan_cluster\": 0}, {\"LIGHT-YEARS FROM EARTH\": 123.0, \"PLANET MASS\": 2.88, \"kmeans_cluster\": 1, \"dbscan_cluster\": 0}, {\"LIGHT-YEARS FROM EARTH\": 123.0, \"PLANET MASS\": 4.04, \"kmeans_cluster\": 1, \"dbscan_cluster\": 0}, {\"LIGHT-YEARS FROM EARTH\": 52.0, \"PLANET MASS\": 1.54, \"kmeans_cluster\": 1, \"dbscan_cluster\": 0}, {\"LIGHT-YEARS FROM EARTH\": 52.0, \"PLANET MASS\": 0.06000012585898759, \"kmeans_cluster\": 2, \"dbscan_cluster\": 1}, {\"LIGHT-YEARS FROM EARTH\": 29.0, \"PLANET MASS\": 0.05317542225690337, \"kmeans_cluster\": 2, \"dbscan_cluster\": 1}, {\"LIGHT-YEARS FROM EARTH\": 29.0, \"PLANET MASS\": 0.0755153925541823, \"kmeans_cluster\": 2, \"dbscan_cluster\": 1}, {\"LIGHT-YEARS FROM EARTH\": 73.0, \"PLANET MASS\": 1.37, \"kmeans_cluster\": 1, \"dbscan_cluster\": 0}, {\"LIGHT-YEARS FROM EARTH\": 20.0, \"PLANET MASS\": 0.00849548166234551, \"kmeans_cluster\": 2, \"dbscan_cluster\": 1}, {\"LIGHT-YEARS FROM EARTH\": 20.0, \"PLANET MASS\": 0.0075515392554182294, \"kmeans_cluster\": 2, \"dbscan_cluster\": 1}, {\"LIGHT-YEARS FROM EARTH\": 20.0, \"PLANET MASS\": 0.015103078510836459, \"kmeans_cluster\": 2, \"dbscan_cluster\": 1}, {\"LIGHT-YEARS FROM EARTH\": 20.0, \"PLANET MASS\": 0.015008684270143732, \"kmeans_cluster\": 2, \"dbscan_cluster\": 1}, {\"LIGHT-YEARS FROM EARTH\": 177.0, \"PLANET MASS\": 1.808, \"kmeans_cluster\": 1, \"dbscan_cluster\": 0}, {\"LIGHT-YEARS FROM EARTH\": 21.0, \"PLANET MASS\": 0.014914290029451004, \"kmeans_cluster\": 2, \"dbscan_cluster\": 1}, {\"LIGHT-YEARS FROM EARTH\": 21.0, \"PLANET MASS\": 0.01371862964734312, \"kmeans_cluster\": 2, \"dbscan_cluster\": 1}, {\"LIGHT-YEARS FROM EARTH\": 21.0, \"PLANET MASS\": 0.05087849573338033, \"kmeans_cluster\": 2, \"dbscan_cluster\": 1}, {\"LIGHT-YEARS FROM EARTH\": 21.0, \"PLANET MASS\": 0.02296926523523045, \"kmeans_cluster\": 2, \"dbscan_cluster\": 1}, {\"LIGHT-YEARS FROM EARTH\": 21.0, \"PLANET MASS\": 0.03400149772195233, \"kmeans_cluster\": 2, \"dbscan_cluster\": 1}, {\"LIGHT-YEARS FROM EARTH\": 21.0, \"PLANET MASS\": 0.34, \"kmeans_cluster\": 2, \"dbscan_cluster\": -1}, {\"LIGHT-YEARS FROM EARTH\": 102.0, \"PLANET MASS\": 9.7, \"kmeans_cluster\": 1, \"dbscan_cluster\": 0}, {\"LIGHT-YEARS FROM EARTH\": 16.0, \"PLANET MASS\": 0.026650640622246837, \"kmeans_cluster\": 2, \"dbscan_cluster\": 1}, {\"LIGHT-YEARS FROM EARTH\": 60.0, \"PLANET MASS\": 1.56, \"kmeans_cluster\": 1, \"dbscan_cluster\": 0}, {\"LIGHT-YEARS FROM EARTH\": 359.0, \"PLANET MASS\": 1.37, \"kmeans_cluster\": 1, \"dbscan_cluster\": 0}, {\"LIGHT-YEARS FROM EARTH\": 85.0, \"PLANET MASS\": 1.22, \"kmeans_cluster\": 1, \"dbscan_cluster\": 0}, {\"LIGHT-YEARS FROM EARTH\": 68.0, \"PLANET MASS\": 9.1, \"kmeans_cluster\": 1, \"dbscan_cluster\": 0}, {\"LIGHT-YEARS FROM EARTH\": 36.0, \"PLANET MASS\": 0.228, \"kmeans_cluster\": 2, \"dbscan_cluster\": -1}, {\"LIGHT-YEARS FROM EARTH\": 138.0, \"PLANET MASS\": 0.797, \"kmeans_cluster\": 1, \"dbscan_cluster\": 0}, {\"LIGHT-YEARS FROM EARTH\": 138.0, \"PLANET MASS\": 12.99, \"kmeans_cluster\": 1, \"dbscan_cluster\": 0}, {\"LIGHT-YEARS FROM EARTH\": 60.0, \"PLANET MASS\": 12.9, \"kmeans_cluster\": 1, \"dbscan_cluster\": 0}, {\"LIGHT-YEARS FROM EARTH\": 179.0, \"PLANET MASS\": 2.37, \"kmeans_cluster\": 1, \"dbscan_cluster\": 0}, {\"LIGHT-YEARS FROM EARTH\": 179.0, \"PLANET MASS\": 2.37, \"kmeans_cluster\": 1, \"dbscan_cluster\": 0}, {\"LIGHT-YEARS FROM EARTH\": 400.0, \"PLANET MASS\": 7.32, \"kmeans_cluster\": 1, \"dbscan_cluster\": 0}, {\"LIGHT-YEARS FROM EARTH\": 291.0, \"PLANET MASS\": 6.92, \"kmeans_cluster\": 1, \"dbscan_cluster\": 0}, {\"LIGHT-YEARS FROM EARTH\": 85.0, \"PLANET MASS\": 1.06, \"kmeans_cluster\": 1, \"dbscan_cluster\": 0}, {\"LIGHT-YEARS FROM EARTH\": 85.0, \"PLANET MASS\": 2.51, \"kmeans_cluster\": 1, \"dbscan_cluster\": 0}, {\"LIGHT-YEARS FROM EARTH\": 34.0, \"PLANET MASS\": 2.3, \"kmeans_cluster\": 1, \"dbscan_cluster\": 0}, {\"LIGHT-YEARS FROM EARTH\": 222.0, \"PLANET MASS\": 6.0, \"kmeans_cluster\": 1, \"dbscan_cluster\": 0}, {\"LIGHT-YEARS FROM EARTH\": 41.0, \"PLANET MASS\": 0.03209404183552748, \"kmeans_cluster\": 2, \"dbscan_cluster\": 1}, {\"LIGHT-YEARS FROM EARTH\": 41.0, \"PLANET MASS\": 0.03712840133913963, \"kmeans_cluster\": 2, \"dbscan_cluster\": 1}, {\"LIGHT-YEARS FROM EARTH\": 41.0, \"PLANET MASS\": 0.05695119188461249, \"kmeans_cluster\": 2, \"dbscan_cluster\": 1}, {\"LIGHT-YEARS FROM EARTH\": 280.0, \"PLANET MASS\": 2.7, \"kmeans_cluster\": 1, \"dbscan_cluster\": 0}, {\"LIGHT-YEARS FROM EARTH\": 878.0, \"PLANET MASS\": 27.1, \"kmeans_cluster\": 1, \"dbscan_cluster\": 0}, {\"LIGHT-YEARS FROM EARTH\": 126.0, \"PLANET MASS\": 8.35, \"kmeans_cluster\": 1, \"dbscan_cluster\": 0}, {\"LIGHT-YEARS FROM EARTH\": 257.0, \"PLANET MASS\": 8.2, \"kmeans_cluster\": 1, \"dbscan_cluster\": 0}, {\"LIGHT-YEARS FROM EARTH\": 343.0, \"PLANET MASS\": 1.98, \"kmeans_cluster\": 1, \"dbscan_cluster\": 0}, {\"LIGHT-YEARS FROM EARTH\": 476.0, \"PLANET MASS\": 20.5, \"kmeans_cluster\": 1, \"dbscan_cluster\": 0}, {\"LIGHT-YEARS FROM EARTH\": 59.0, \"PLANET MASS\": 21.9987, \"kmeans_cluster\": 1, \"dbscan_cluster\": 0}, {\"LIGHT-YEARS FROM EARTH\": 56.0, \"PLANET MASS\": 2.27, \"kmeans_cluster\": 1, \"dbscan_cluster\": 0}, {\"LIGHT-YEARS FROM EARTH\": 135.0, \"PLANET MASS\": 7.0, \"kmeans_cluster\": 1, \"dbscan_cluster\": 0}, {\"LIGHT-YEARS FROM EARTH\": 135.0, \"PLANET MASS\": 10.0, \"kmeans_cluster\": 1, \"dbscan_cluster\": 0}, {\"LIGHT-YEARS FROM EARTH\": 135.0, \"PLANET MASS\": 10.0, \"kmeans_cluster\": 1, \"dbscan_cluster\": 0}, {\"LIGHT-YEARS FROM EARTH\": 135.0, \"PLANET MASS\": 10.0, \"kmeans_cluster\": 1, \"dbscan_cluster\": 0}, {\"LIGHT-YEARS FROM EARTH\": 102.0, \"PLANET MASS\": 8.82, \"kmeans_cluster\": 1, \"dbscan_cluster\": 0}, {\"LIGHT-YEARS FROM EARTH\": 163.0, \"PLANET MASS\": 13.616, \"kmeans_cluster\": 1, \"dbscan_cluster\": 0}, {\"LIGHT-YEARS FROM EARTH\": 98.0, \"PLANET MASS\": 2.0, \"kmeans_cluster\": 1, \"dbscan_cluster\": 0}, {\"LIGHT-YEARS FROM EARTH\": 20551.0, \"PLANET MASS\": 18.0, \"kmeans_cluster\": 0, \"dbscan_cluster\": 2}, {\"LIGHT-YEARS FROM EARTH\": 21696.0, \"PLANET MASS\": 3.283, \"kmeans_cluster\": 0, \"dbscan_cluster\": 2}, {\"LIGHT-YEARS FROM EARTH\": 21529.0, \"PLANET MASS\": 7.0, \"kmeans_cluster\": 0, \"dbscan_cluster\": 2}, {\"LIGHT-YEARS FROM EARTH\": 20420.0, \"PLANET MASS\": 4.57, \"kmeans_cluster\": 0, \"dbscan_cluster\": 2}, {\"LIGHT-YEARS FROM EARTH\": 23160.0, \"PLANET MASS\": 2.2, \"kmeans_cluster\": 0, \"dbscan_cluster\": 2}, {\"LIGHT-YEARS FROM EARTH\": 22867.0, \"PLANET MASS\": 15.49, \"kmeans_cluster\": 0, \"dbscan_cluster\": 2}, {\"LIGHT-YEARS FROM EARTH\": 21007.0, \"PLANET MASS\": 3.93, \"kmeans_cluster\": 0, \"dbscan_cluster\": 2}, {\"LIGHT-YEARS FROM EARTH\": 15919.0, \"PLANET MASS\": 2.63, \"kmeans_cluster\": 0, \"dbscan_cluster\": 2}, {\"LIGHT-YEARS FROM EARTH\": 19572.0, \"PLANET MASS\": 2.0, \"kmeans_cluster\": 0, \"dbscan_cluster\": 2}, {\"LIGHT-YEARS FROM EARTH\": 21203.0, \"PLANET MASS\": 0.71, \"kmeans_cluster\": 0, \"dbscan_cluster\": 2}, {\"LIGHT-YEARS FROM EARTH\": 11026.0, \"PLANET MASS\": 0.02388174289526015, \"kmeans_cluster\": 0, \"dbscan_cluster\": -1}, {\"LIGHT-YEARS FROM EARTH\": 23813.0, \"PLANET MASS\": 0.19, \"kmeans_cluster\": 0, \"dbscan_cluster\": 2}, {\"LIGHT-YEARS FROM EARTH\": 11287.0, \"PLANET MASS\": 4.42, \"kmeans_cluster\": 0, \"dbscan_cluster\": 2}, {\"LIGHT-YEARS FROM EARTH\": 3154.0, \"PLANET MASS\": 0.348, \"kmeans_cluster\": 0, \"dbscan_cluster\": -1}, {\"LIGHT-YEARS FROM EARTH\": 10830.0, \"PLANET MASS\": 0.032345759810708086, \"kmeans_cluster\": 0, \"dbscan_cluster\": -1}, {\"LIGHT-YEARS FROM EARTH\": 19963.0, \"PLANET MASS\": 1.25, \"kmeans_cluster\": 0, \"dbscan_cluster\": 2}, {\"LIGHT-YEARS FROM EARTH\": 22964.0, \"PLANET MASS\": 0.64, \"kmeans_cluster\": 0, \"dbscan_cluster\": 2}, {\"LIGHT-YEARS FROM EARTH\": 3262.0, \"PLANET MASS\": 0.010383366476200065, \"kmeans_cluster\": 2, \"dbscan_cluster\": -1}, {\"LIGHT-YEARS FROM EARTH\": 18920.0, \"PLANET MASS\": 0.83, \"kmeans_cluster\": 0, \"dbscan_cluster\": 2}, {\"LIGHT-YEARS FROM EARTH\": 10765.0, \"PLANET MASS\": 4.1, \"kmeans_cluster\": 0, \"dbscan_cluster\": 2}, {\"LIGHT-YEARS FROM EARTH\": 9916.0, \"PLANET MASS\": 0.032723336773478995, \"kmeans_cluster\": 0, \"dbscan_cluster\": -1}, {\"LIGHT-YEARS FROM EARTH\": 22997.0, \"PLANET MASS\": 0.212, \"kmeans_cluster\": 0, \"dbscan_cluster\": 2}, {\"LIGHT-YEARS FROM EARTH\": 18561.0, \"PLANET MASS\": 2.6, \"kmeans_cluster\": 0, \"dbscan_cluster\": 2}, {\"LIGHT-YEARS FROM EARTH\": 9134.0, \"PLANET MASS\": 11.0, \"kmeans_cluster\": 0, \"dbscan_cluster\": 2}, {\"LIGHT-YEARS FROM EARTH\": 20975.0, \"PLANET MASS\": 0.27, \"kmeans_cluster\": 0, \"dbscan_cluster\": 2}, {\"LIGHT-YEARS FROM EARTH\": 7503.0, \"PLANET MASS\": 1.5, \"kmeans_cluster\": 0, \"dbscan_cluster\": 2}, {\"LIGHT-YEARS FROM EARTH\": 24074.0, \"PLANET MASS\": 0.09439424069272788, \"kmeans_cluster\": 0, \"dbscan_cluster\": 2}, {\"LIGHT-YEARS FROM EARTH\": 23486.0, \"PLANET MASS\": 0.05349006972587913, \"kmeans_cluster\": 0, \"dbscan_cluster\": 2}, {\"LIGHT-YEARS FROM EARTH\": 14353.0, \"PLANET MASS\": 0.05663654441563672, \"kmeans_cluster\": 0, \"dbscan_cluster\": 2}, {\"LIGHT-YEARS FROM EARTH\": 25183.0, \"PLANET MASS\": 4.8, \"kmeans_cluster\": 0, \"dbscan_cluster\": 2}, {\"LIGHT-YEARS FROM EARTH\": 24661.0, \"PLANET MASS\": 11.6, \"kmeans_cluster\": 0, \"dbscan_cluster\": 2}, {\"LIGHT-YEARS FROM EARTH\": 17289.0, \"PLANET MASS\": 8.4, \"kmeans_cluster\": 0, \"dbscan_cluster\": 2}, {\"LIGHT-YEARS FROM EARTH\": 23519.0, \"PLANET MASS\": 0.021081380421375893, \"kmeans_cluster\": 0, \"dbscan_cluster\": -1}, {\"LIGHT-YEARS FROM EARTH\": 21921.0, \"PLANET MASS\": 2.74, \"kmeans_cluster\": 0, \"dbscan_cluster\": 2}, {\"LIGHT-YEARS FROM EARTH\": 2773.0, \"PLANET MASS\": 0.01019457799481461, \"kmeans_cluster\": 2, \"dbscan_cluster\": -1}, {\"LIGHT-YEARS FROM EARTH\": 23160.0, \"PLANET MASS\": 0.10603619704483098, \"kmeans_cluster\": 0, \"dbscan_cluster\": 2}, {\"LIGHT-YEARS FROM EARTH\": 21203.0, \"PLANET MASS\": 2.8, \"kmeans_cluster\": 0, \"dbscan_cluster\": 2}, {\"LIGHT-YEARS FROM EARTH\": 22182.0, \"PLANET MASS\": 0.62, \"kmeans_cluster\": 0, \"dbscan_cluster\": 2}, {\"LIGHT-YEARS FROM EARTH\": 106.0, \"PLANET MASS\": 2.4, \"kmeans_cluster\": 1, \"dbscan_cluster\": 0}, {\"LIGHT-YEARS FROM EARTH\": 151.0, \"PLANET MASS\": 22.206, \"kmeans_cluster\": 1, \"dbscan_cluster\": 0}, {\"LIGHT-YEARS FROM EARTH\": 151.0, \"PLANET MASS\": 24.662, \"kmeans_cluster\": 1, \"dbscan_cluster\": 0}, {\"LIGHT-YEARS FROM EARTH\": 21529.0, \"PLANET MASS\": 0.017305610793666777, \"kmeans_cluster\": 0, \"dbscan_cluster\": -1}, {\"LIGHT-YEARS FROM EARTH\": 4926.0, \"PLANET MASS\": 0.727, \"kmeans_cluster\": 0, \"dbscan_cluster\": 2}, {\"LIGHT-YEARS FROM EARTH\": 4926.0, \"PLANET MASS\": 0.27, \"kmeans_cluster\": 0, \"dbscan_cluster\": 2}, {\"LIGHT-YEARS FROM EARTH\": 26422.0, \"PLANET MASS\": 0.18, \"kmeans_cluster\": 0, \"dbscan_cluster\": 2}, {\"LIGHT-YEARS FROM EARTH\": 22182.0, \"PLANET MASS\": 4.6, \"kmeans_cluster\": 0, \"dbscan_cluster\": 2}, {\"LIGHT-YEARS FROM EARTH\": 19898.0, \"PLANET MASS\": 0.19, \"kmeans_cluster\": 0, \"dbscan_cluster\": 2}, {\"LIGHT-YEARS FROM EARTH\": 8383.0, \"PLANET MASS\": 0.53, \"kmeans_cluster\": 0, \"dbscan_cluster\": 2}, {\"LIGHT-YEARS FROM EARTH\": 14288.0, \"PLANET MASS\": 0.88, \"kmeans_cluster\": 0, \"dbscan_cluster\": 2}, {\"LIGHT-YEARS FROM EARTH\": 5741.0, \"PLANET MASS\": 1.85, \"kmeans_cluster\": 0, \"dbscan_cluster\": 2}, {\"LIGHT-YEARS FROM EARTH\": 16212.0, \"PLANET MASS\": 2.73, \"kmeans_cluster\": 0, \"dbscan_cluster\": 2}, {\"LIGHT-YEARS FROM EARTH\": 4241.0, \"PLANET MASS\": 0.39, \"kmeans_cluster\": 0, \"dbscan_cluster\": 2}, {\"LIGHT-YEARS FROM EARTH\": 21855.0, \"PLANET MASS\": 0.47, \"kmeans_cluster\": 0, \"dbscan_cluster\": 2}, {\"LIGHT-YEARS FROM EARTH\": 20616.0, \"PLANET MASS\": 0.167, \"kmeans_cluster\": 0, \"dbscan_cluster\": 2}, {\"LIGHT-YEARS FROM EARTH\": 8481.0, \"PLANET MASS\": 0.11012661414151585, \"kmeans_cluster\": 0, \"dbscan_cluster\": -1}, {\"LIGHT-YEARS FROM EARTH\": 9916.0, \"PLANET MASS\": 13.0, \"kmeans_cluster\": 0, \"dbscan_cluster\": 2}, {\"LIGHT-YEARS FROM EARTH\": 12722.0, \"PLANET MASS\": 0.29, \"kmeans_cluster\": 0, \"dbscan_cluster\": 2}, {\"LIGHT-YEARS FROM EARTH\": 2972.0, \"PLANET MASS\": 0.005223147984997609, \"kmeans_cluster\": 2, \"dbscan_cluster\": -1}, {\"LIGHT-YEARS FROM EARTH\": 20551.0, \"PLANET MASS\": 0.64, \"kmeans_cluster\": 0, \"dbscan_cluster\": 2}, {\"LIGHT-YEARS FROM EARTH\": 22508.0, \"PLANET MASS\": 2.7, \"kmeans_cluster\": 0, \"dbscan_cluster\": 2}, {\"LIGHT-YEARS FROM EARTH\": 13374.0, \"PLANET MASS\": 0.51, \"kmeans_cluster\": 0, \"dbscan_cluster\": 2}, {\"LIGHT-YEARS FROM EARTH\": 7242.0, \"PLANET MASS\": 3.09, \"kmeans_cluster\": 0, \"dbscan_cluster\": 2}, {\"LIGHT-YEARS FROM EARTH\": 20877.0, \"PLANET MASS\": 0.174, \"kmeans_cluster\": 0, \"dbscan_cluster\": 2}, {\"LIGHT-YEARS FROM EARTH\": 20877.0, \"PLANET MASS\": 0.263, \"kmeans_cluster\": 0, \"dbscan_cluster\": 2}, {\"LIGHT-YEARS FROM EARTH\": 26748.0, \"PLANET MASS\": 0.72, \"kmeans_cluster\": 0, \"dbscan_cluster\": 2}, {\"LIGHT-YEARS FROM EARTH\": 10765.0, \"PLANET MASS\": 0.06607596848490951, \"kmeans_cluster\": 0, \"dbscan_cluster\": 2}, {\"LIGHT-YEARS FROM EARTH\": 13798.0, \"PLANET MASS\": 2.54, \"kmeans_cluster\": 0, \"dbscan_cluster\": 2}, {\"LIGHT-YEARS FROM EARTH\": 21855.0, \"PLANET MASS\": 0.05632189694666096, \"kmeans_cluster\": 0, \"dbscan_cluster\": 2}, {\"LIGHT-YEARS FROM EARTH\": 23062.0, \"PLANET MASS\": 0.433, \"kmeans_cluster\": 0, \"dbscan_cluster\": 2}, {\"LIGHT-YEARS FROM EARTH\": 21203.0, \"PLANET MASS\": 4.1, \"kmeans_cluster\": 0, \"dbscan_cluster\": 2}, {\"LIGHT-YEARS FROM EARTH\": 11123.0, \"PLANET MASS\": 4.18, \"kmeans_cluster\": 0, \"dbscan_cluster\": 2}, {\"LIGHT-YEARS FROM EARTH\": 12167.0, \"PLANET MASS\": 0.43, \"kmeans_cluster\": 0, \"dbscan_cluster\": 2}, {\"LIGHT-YEARS FROM EARTH\": 22084.0, \"PLANET MASS\": 13.38, \"kmeans_cluster\": 0, \"dbscan_cluster\": 2}, {\"LIGHT-YEARS FROM EARTH\": 12754.0, \"PLANET MASS\": 0.004499458806353362, \"kmeans_cluster\": 0, \"dbscan_cluster\": -1}, {\"LIGHT-YEARS FROM EARTH\": 15348.0, \"PLANET MASS\": 0.010285825760817581, \"kmeans_cluster\": 0, \"dbscan_cluster\": -1}, {\"LIGHT-YEARS FROM EARTH\": 19295.0, \"PLANET MASS\": 0.401, \"kmeans_cluster\": 0, \"dbscan_cluster\": 2}, {\"LIGHT-YEARS FROM EARTH\": 18920.0, \"PLANET MASS\": 0.02831827220781836, \"kmeans_cluster\": 0, \"dbscan_cluster\": -1}, {\"LIGHT-YEARS FROM EARTH\": 12885.0, \"PLANET MASS\": 0.51, \"kmeans_cluster\": 0, \"dbscan_cluster\": 2}, {\"LIGHT-YEARS FROM EARTH\": 18496.0, \"PLANET MASS\": 5.53, \"kmeans_cluster\": 0, \"dbscan_cluster\": 2}, {\"LIGHT-YEARS FROM EARTH\": 12820.0, \"PLANET MASS\": 11.28, \"kmeans_cluster\": 0, \"dbscan_cluster\": 2}, {\"LIGHT-YEARS FROM EARTH\": 2805.0, \"PLANET MASS\": 0.01415913610390918, \"kmeans_cluster\": 2, \"dbscan_cluster\": -1}, {\"LIGHT-YEARS FROM EARTH\": 24432.0, \"PLANET MASS\": 0.75, \"kmeans_cluster\": 0, \"dbscan_cluster\": 2}, {\"LIGHT-YEARS FROM EARTH\": 18430.0, \"PLANET MASS\": 0.04383039242832331, \"kmeans_cluster\": 0, \"dbscan_cluster\": 2}, {\"LIGHT-YEARS FROM EARTH\": 24726.0, \"PLANET MASS\": 0.01246003977144008, \"kmeans_cluster\": 0, \"dbscan_cluster\": -1}, {\"LIGHT-YEARS FROM EARTH\": 23160.0, \"PLANET MASS\": 1.8, \"kmeans_cluster\": 0, \"dbscan_cluster\": 2}, {\"LIGHT-YEARS FROM EARTH\": 23160.0, \"PLANET MASS\": 2.8, \"kmeans_cluster\": 0, \"dbscan_cluster\": 2}, {\"LIGHT-YEARS FROM EARTH\": 20290.0, \"PLANET MASS\": 0.77, \"kmeans_cluster\": 0, \"dbscan_cluster\": 2}, {\"LIGHT-YEARS FROM EARTH\": 250.0, \"PLANET MASS\": 1.7, \"kmeans_cluster\": 1, \"dbscan_cluster\": 0}, {\"LIGHT-YEARS FROM EARTH\": 277.0, \"PLANET MASS\": 1.5, \"kmeans_cluster\": 1, \"dbscan_cluster\": 0}, {\"LIGHT-YEARS FROM EARTH\": 179.0, \"PLANET MASS\": 4.1, \"kmeans_cluster\": 1, \"dbscan_cluster\": 0}, {\"LIGHT-YEARS FROM EARTH\": 60.0, \"PLANET MASS\": 0.015166008004631613, \"kmeans_cluster\": 2, \"dbscan_cluster\": 1}, {\"LIGHT-YEARS FROM EARTH\": 74.0, \"PLANET MASS\": 1.53, \"kmeans_cluster\": 1, \"dbscan_cluster\": 0}, {\"LIGHT-YEARS FROM EARTH\": 1957.0, \"PLANET MASS\": 6.292949379515192e-05, \"kmeans_cluster\": 2, \"dbscan_cluster\": -1}, {\"LIGHT-YEARS FROM EARTH\": 1957.0, \"PLANET MASS\": 0.013529841165957662, \"kmeans_cluster\": 2, \"dbscan_cluster\": -1}, {\"LIGHT-YEARS FROM EARTH\": 1957.0, \"PLANET MASS\": 0.012271251290054623, \"kmeans_cluster\": 2, \"dbscan_cluster\": -1}, {\"LIGHT-YEARS FROM EARTH\": 3914.0, \"PLANET MASS\": 1.2, \"kmeans_cluster\": 0, \"dbscan_cluster\": -1}, {\"LIGHT-YEARS FROM EARTH\": 750.0, \"PLANET MASS\": 0.7949, \"kmeans_cluster\": 1, \"dbscan_cluster\": 0}, {\"LIGHT-YEARS FROM EARTH\": 57.0, \"PLANET MASS\": 1.0449, \"kmeans_cluster\": 1, \"dbscan_cluster\": 0}, {\"LIGHT-YEARS FROM EARTH\": 57.0, \"PLANET MASS\": 0.07866186724393989, \"kmeans_cluster\": 2, \"dbscan_cluster\": 1}, {\"LIGHT-YEARS FROM EARTH\": 51.0, \"PLANET MASS\": 5.95, \"kmeans_cluster\": 1, \"dbscan_cluster\": 0}, {\"LIGHT-YEARS FROM EARTH\": 12.0, \"PLANET MASS\": 0.012365645530747352, \"kmeans_cluster\": 2, \"dbscan_cluster\": 1}, {\"LIGHT-YEARS FROM EARTH\": 12.0, \"PLANET MASS\": 0.012365645530747352, \"kmeans_cluster\": 2, \"dbscan_cluster\": 1}, {\"LIGHT-YEARS FROM EARTH\": 12.0, \"PLANET MASS\": 0.005506330707075793, \"kmeans_cluster\": 2, \"dbscan_cluster\": -1}, {\"LIGHT-YEARS FROM EARTH\": 12.0, \"PLANET MASS\": 0.005758048682256401, \"kmeans_cluster\": 2, \"dbscan_cluster\": -1}, {\"LIGHT-YEARS FROM EARTH\": 367.0, \"PLANET MASS\": 20.6, \"kmeans_cluster\": 1, \"dbscan_cluster\": 0}, {\"LIGHT-YEARS FROM EARTH\": 20551.0, \"PLANET MASS\": 1.28, \"kmeans_cluster\": 0, \"dbscan_cluster\": 2}, {\"LIGHT-YEARS FROM EARTH\": 44.0, \"PLANET MASS\": 0.6876, \"kmeans_cluster\": 1, \"dbscan_cluster\": 0}, {\"LIGHT-YEARS FROM EARTH\": 44.0, \"PLANET MASS\": 1.981, \"kmeans_cluster\": 1, \"dbscan_cluster\": 0}, {\"LIGHT-YEARS FROM EARTH\": 44.0, \"PLANET MASS\": 4.132, \"kmeans_cluster\": 1, \"dbscan_cluster\": 0}, {\"LIGHT-YEARS FROM EARTH\": 33.0, \"PLANET MASS\": 22.0, \"kmeans_cluster\": 1, \"dbscan_cluster\": 0}, {\"LIGHT-YEARS FROM EARTH\": 183.0, \"PLANET MASS\": 2.8, \"kmeans_cluster\": 1, \"dbscan_cluster\": 0}]}}, {\"mode\": \"vega-lite\"});\n",
       "</script>"
      ],
      "text/plain": [
       "alt.Chart(...)"
      ]
     },
     "execution_count": 44,
     "metadata": {},
     "output_type": "execute_result"
    }
   ],
   "source": [
    "alt.Chart(cluster_df).mark_circle().encode(\n",
    "    x = alt.X('PLANET MASS', scale=alt.Scale(type='log')), \n",
    "    y = alt.Y('LIGHT-YEARS FROM EARTH', scale=alt.Scale(type='log')), \n",
    "    color = alt.Color('dbscan_cluster:N', legend=alt.Legend(title='CLUSTER'))\n",
    ").properties(title='Planet Mass vs Light-Years from Earth')"
   ]
  },
  {
   "cell_type": "markdown",
   "metadata": {},
   "source": [
    "The advantage to DBSCAN over KMeans is that DBSCAN classifies outliers from the data as along with clusters. As we can see from our visualization, DBSCAN classified the data into four clusters, with the ones labeled as -1 being the outliers. "
   ]
  },
  {
   "cell_type": "code",
   "execution_count": null,
   "metadata": {},
   "outputs": [],
   "source": []
  }
 ],
 "metadata": {
  "kernelspec": {
   "display_name": "portfolio",
   "language": "python",
   "name": "portfolio"
  },
  "language_info": {
   "codemirror_mode": {
    "name": "ipython",
    "version": 3
   },
   "file_extension": ".py",
   "mimetype": "text/x-python",
   "name": "python",
   "nbconvert_exporter": "python",
   "pygments_lexer": "ipython3",
   "version": "3.9.7"
  }
 },
 "nbformat": 4,
 "nbformat_minor": 4
}
